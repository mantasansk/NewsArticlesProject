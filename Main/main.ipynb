{
 "cells": [
  {
   "cell_type": "code",
   "execution_count": 1,
   "id": "be7062a8",
   "metadata": {},
   "outputs": [],
   "source": [
    "from collections import Counter\n",
    "from sentence_transformers import SentenceTransformer, util\n",
    "import matplotlib.pyplot as plt\n",
    "import numpy as np\n",
    "import pandas as pd\n",
    "import pickle\n",
    "import seaborn as sns\n",
    "import torch"
   ]
  },
  {
   "cell_type": "markdown",
   "id": "ca6ed386",
   "metadata": {},
   "source": [
    "# 1. Data Preparation"
   ]
  },
  {
   "cell_type": "markdown",
   "id": "06e1cb52",
   "metadata": {},
   "source": [
    "### Loading Data"
   ]
  },
  {
   "cell_type": "code",
   "execution_count": 3,
   "id": "163b4de0",
   "metadata": {},
   "outputs": [],
   "source": [
    "# Loading data into pandas dataframes\n",
    "data_lrt = pd.read_csv(\"Data/data_lrt.csv\", index_col=0)\n",
    "data_15min = pd.read_csv(\"Data/data_15min.csv\", index_col=0)"
   ]
  },
  {
   "cell_type": "code",
   "execution_count": 4,
   "id": "9c57f6eb",
   "metadata": {},
   "outputs": [
    {
     "data": {
      "text/html": [
       "<div>\n",
       "<style scoped>\n",
       "    .dataframe tbody tr th:only-of-type {\n",
       "        vertical-align: middle;\n",
       "    }\n",
       "\n",
       "    .dataframe tbody tr th {\n",
       "        vertical-align: top;\n",
       "    }\n",
       "\n",
       "    .dataframe thead th {\n",
       "        text-align: right;\n",
       "    }\n",
       "</style>\n",
       "<table border=\"1\" class=\"dataframe\">\n",
       "  <thead>\n",
       "    <tr style=\"text-align: right;\">\n",
       "      <th></th>\n",
       "      <th>source</th>\n",
       "      <th>category</th>\n",
       "      <th>date</th>\n",
       "      <th>title</th>\n",
       "      <th>score</th>\n",
       "      <th>last_updated</th>\n",
       "    </tr>\n",
       "  </thead>\n",
       "  <tbody>\n",
       "    <tr>\n",
       "      <th>0</th>\n",
       "      <td>lrt.lt</td>\n",
       "      <td>lietuvoje</td>\n",
       "      <td>2022-04-09</td>\n",
       "      <td>penkiu vaiku mama pasigenda valstybes pagalbos...</td>\n",
       "      <td>0</td>\n",
       "      <td>2022-04-09</td>\n",
       "    </tr>\n",
       "    <tr>\n",
       "      <th>1</th>\n",
       "      <td>lrt.lt</td>\n",
       "      <td>lietuvoje</td>\n",
       "      <td>2022-04-09</td>\n",
       "      <td>simasius tikisi kad pamokos ukrainietiskai vil...</td>\n",
       "      <td>0</td>\n",
       "      <td>2022-04-09</td>\n",
       "    </tr>\n",
       "    <tr>\n",
       "      <th>2</th>\n",
       "      <td>lrt.lt</td>\n",
       "      <td>lietuvoje</td>\n",
       "      <td>2022-04-09</td>\n",
       "      <td>naujausios apklausos neaiski pozicija del vers...</td>\n",
       "      <td>0</td>\n",
       "      <td>2022-04-09</td>\n",
       "    </tr>\n",
       "    <tr>\n",
       "      <th>3</th>\n",
       "      <td>lrt.lt</td>\n",
       "      <td>lietuvoje</td>\n",
       "      <td>2022-04-09</td>\n",
       "      <td>kyjive irpineje bucoje apsilanke parlamentarai...</td>\n",
       "      <td>0</td>\n",
       "      <td>2022-04-09</td>\n",
       "    </tr>\n",
       "    <tr>\n",
       "      <th>4</th>\n",
       "      <td>lrt.lt</td>\n",
       "      <td>lietuvoje</td>\n",
       "      <td>2022-04-09</td>\n",
       "      <td>per para lietuvoje 1750 koronaviruso atvejai m...</td>\n",
       "      <td>47</td>\n",
       "      <td>2022-04-09</td>\n",
       "    </tr>\n",
       "  </tbody>\n",
       "</table>\n",
       "</div>"
      ],
      "text/plain": [
       "   source   category        date  \\\n",
       "0  lrt.lt  lietuvoje  2022-04-09   \n",
       "1  lrt.lt  lietuvoje  2022-04-09   \n",
       "2  lrt.lt  lietuvoje  2022-04-09   \n",
       "3  lrt.lt  lietuvoje  2022-04-09   \n",
       "4  lrt.lt  lietuvoje  2022-04-09   \n",
       "\n",
       "                                               title  score last_updated  \n",
       "0  penkiu vaiku mama pasigenda valstybes pagalbos...      0   2022-04-09  \n",
       "1  simasius tikisi kad pamokos ukrainietiskai vil...      0   2022-04-09  \n",
       "2  naujausios apklausos neaiski pozicija del vers...      0   2022-04-09  \n",
       "3  kyjive irpineje bucoje apsilanke parlamentarai...      0   2022-04-09  \n",
       "4  per para lietuvoje 1750 koronaviruso atvejai m...     47   2022-04-09  "
      ]
     },
     "execution_count": 4,
     "metadata": {},
     "output_type": "execute_result"
    }
   ],
   "source": [
    "data_lrt.head()"
   ]
  },
  {
   "cell_type": "code",
   "execution_count": 5,
   "id": "6c09a8b6",
   "metadata": {},
   "outputs": [
    {
     "data": {
      "text/html": [
       "<div>\n",
       "<style scoped>\n",
       "    .dataframe tbody tr th:only-of-type {\n",
       "        vertical-align: middle;\n",
       "    }\n",
       "\n",
       "    .dataframe tbody tr th {\n",
       "        vertical-align: top;\n",
       "    }\n",
       "\n",
       "    .dataframe thead th {\n",
       "        text-align: right;\n",
       "    }\n",
       "</style>\n",
       "<table border=\"1\" class=\"dataframe\">\n",
       "  <thead>\n",
       "    <tr style=\"text-align: right;\">\n",
       "      <th></th>\n",
       "      <th>source</th>\n",
       "      <th>category</th>\n",
       "      <th>date</th>\n",
       "      <th>title</th>\n",
       "      <th>score</th>\n",
       "      <th>last_updated</th>\n",
       "    </tr>\n",
       "  </thead>\n",
       "  <tbody>\n",
       "    <tr>\n",
       "      <th>0</th>\n",
       "      <td>15min.lt</td>\n",
       "      <td>lietuvoje</td>\n",
       "      <td>2022-04-12</td>\n",
       "      <td>lietuvos seime volodymyro zelenskio kalba</td>\n",
       "      <td>0</td>\n",
       "      <td>2022-04-12</td>\n",
       "    </tr>\n",
       "    <tr>\n",
       "      <th>1</th>\n",
       "      <td>15min.lt</td>\n",
       "      <td>lietuvoje</td>\n",
       "      <td>2022-04-12</td>\n",
       "      <td>vsd isaugo rizika keliaujantiems i rusija ir b...</td>\n",
       "      <td>0</td>\n",
       "      <td>2022-04-12</td>\n",
       "    </tr>\n",
       "    <tr>\n",
       "      <th>2</th>\n",
       "      <td>15min.lt</td>\n",
       "      <td>lietuvoje</td>\n",
       "      <td>2022-04-12</td>\n",
       "      <td>a sirinskiene pataisos leis georgijaus juosta ...</td>\n",
       "      <td>0</td>\n",
       "      <td>2022-04-12</td>\n",
       "    </tr>\n",
       "    <tr>\n",
       "      <th>3</th>\n",
       "      <td>15min.lt</td>\n",
       "      <td>lietuvoje</td>\n",
       "      <td>2022-04-12</td>\n",
       "      <td>siemet vvkt gavo 1151 pranesimu apie nepageida...</td>\n",
       "      <td>0</td>\n",
       "      <td>2022-04-12</td>\n",
       "    </tr>\n",
       "    <tr>\n",
       "      <th>4</th>\n",
       "      <td>15min.lt</td>\n",
       "      <td>lietuvoje</td>\n",
       "      <td>2022-04-12</td>\n",
       "      <td>dirbanciu neigaliuju asociacija reforma del ne...</td>\n",
       "      <td>0</td>\n",
       "      <td>2022-04-12</td>\n",
       "    </tr>\n",
       "  </tbody>\n",
       "</table>\n",
       "</div>"
      ],
      "text/plain": [
       "     source   category        date  \\\n",
       "0  15min.lt  lietuvoje  2022-04-12   \n",
       "1  15min.lt  lietuvoje  2022-04-12   \n",
       "2  15min.lt  lietuvoje  2022-04-12   \n",
       "3  15min.lt  lietuvoje  2022-04-12   \n",
       "4  15min.lt  lietuvoje  2022-04-12   \n",
       "\n",
       "                                               title  score last_updated  \n",
       "0          lietuvos seime volodymyro zelenskio kalba      0   2022-04-12  \n",
       "1  vsd isaugo rizika keliaujantiems i rusija ir b...      0   2022-04-12  \n",
       "2  a sirinskiene pataisos leis georgijaus juosta ...      0   2022-04-12  \n",
       "3  siemet vvkt gavo 1151 pranesimu apie nepageida...      0   2022-04-12  \n",
       "4  dirbanciu neigaliuju asociacija reforma del ne...      0   2022-04-12  "
      ]
     },
     "execution_count": 5,
     "metadata": {},
     "output_type": "execute_result"
    }
   ],
   "source": [
    "data_15min.head()"
   ]
  },
  {
   "cell_type": "code",
   "execution_count": 6,
   "id": "5cf9fc86",
   "metadata": {},
   "outputs": [
    {
     "name": "stdout",
     "output_type": "stream",
     "text": [
      "lrt.lt:133437, 15min.lt:72107\n"
     ]
    }
   ],
   "source": [
    "print(f\"lrt.lt:{data_lrt.shape[0]}, 15min.lt:{data_15min.shape[0]}\")"
   ]
  },
  {
   "cell_type": "markdown",
   "id": "3543f0aa",
   "metadata": {},
   "source": [
    "- Both tables have source, category, date, title, score and last_updated columns.\n",
    "- There are 133437 entries from lrt.lt data and 72107 entries from 15min.lt"
   ]
  },
  {
   "cell_type": "code",
   "execution_count": 7,
   "id": "fd26c9e8",
   "metadata": {},
   "outputs": [
    {
     "data": {
      "text/html": [
       "<div>\n",
       "<style scoped>\n",
       "    .dataframe tbody tr th:only-of-type {\n",
       "        vertical-align: middle;\n",
       "    }\n",
       "\n",
       "    .dataframe tbody tr th {\n",
       "        vertical-align: top;\n",
       "    }\n",
       "\n",
       "    .dataframe thead th {\n",
       "        text-align: right;\n",
       "    }\n",
       "</style>\n",
       "<table border=\"1\" class=\"dataframe\">\n",
       "  <thead>\n",
       "    <tr style=\"text-align: right;\">\n",
       "      <th></th>\n",
       "      <th>source</th>\n",
       "      <th>category</th>\n",
       "      <th>date</th>\n",
       "      <th>title</th>\n",
       "      <th>score</th>\n",
       "      <th>last_updated</th>\n",
       "    </tr>\n",
       "  </thead>\n",
       "  <tbody>\n",
       "    <tr>\n",
       "      <th>0</th>\n",
       "      <td>lrt.lt</td>\n",
       "      <td>lietuvoje</td>\n",
       "      <td>2022-04-09</td>\n",
       "      <td>penkiu vaiku mama pasigenda valstybes pagalbos...</td>\n",
       "      <td>0</td>\n",
       "      <td>2022-04-09</td>\n",
       "    </tr>\n",
       "    <tr>\n",
       "      <th>1</th>\n",
       "      <td>lrt.lt</td>\n",
       "      <td>lietuvoje</td>\n",
       "      <td>2022-04-09</td>\n",
       "      <td>simasius tikisi kad pamokos ukrainietiskai vil...</td>\n",
       "      <td>0</td>\n",
       "      <td>2022-04-09</td>\n",
       "    </tr>\n",
       "    <tr>\n",
       "      <th>2</th>\n",
       "      <td>lrt.lt</td>\n",
       "      <td>lietuvoje</td>\n",
       "      <td>2022-04-09</td>\n",
       "      <td>naujausios apklausos neaiski pozicija del vers...</td>\n",
       "      <td>0</td>\n",
       "      <td>2022-04-09</td>\n",
       "    </tr>\n",
       "    <tr>\n",
       "      <th>3</th>\n",
       "      <td>lrt.lt</td>\n",
       "      <td>lietuvoje</td>\n",
       "      <td>2022-04-09</td>\n",
       "      <td>kyjive irpineje bucoje apsilanke parlamentarai...</td>\n",
       "      <td>0</td>\n",
       "      <td>2022-04-09</td>\n",
       "    </tr>\n",
       "    <tr>\n",
       "      <th>4</th>\n",
       "      <td>lrt.lt</td>\n",
       "      <td>lietuvoje</td>\n",
       "      <td>2022-04-09</td>\n",
       "      <td>per para lietuvoje 1750 koronaviruso atvejai m...</td>\n",
       "      <td>47</td>\n",
       "      <td>2022-04-09</td>\n",
       "    </tr>\n",
       "    <tr>\n",
       "      <th>...</th>\n",
       "      <td>...</td>\n",
       "      <td>...</td>\n",
       "      <td>...</td>\n",
       "      <td>...</td>\n",
       "      <td>...</td>\n",
       "      <td>...</td>\n",
       "    </tr>\n",
       "    <tr>\n",
       "      <th>205539</th>\n",
       "      <td>15min.lt</td>\n",
       "      <td>maistas</td>\n",
       "      <td>2021-03-16</td>\n",
       "      <td>iki lojaliems klientams skelbia akcija apdorot...</td>\n",
       "      <td>0</td>\n",
       "      <td>2022-04-12</td>\n",
       "    </tr>\n",
       "    <tr>\n",
       "      <th>205540</th>\n",
       "      <td>15min.lt</td>\n",
       "      <td>maistas</td>\n",
       "      <td>2021-03-12</td>\n",
       "      <td>savaitgalio pietums gardus lasisos kepsneliai ...</td>\n",
       "      <td>0</td>\n",
       "      <td>2022-04-12</td>\n",
       "    </tr>\n",
       "    <tr>\n",
       "      <th>205541</th>\n",
       "      <td>15min.lt</td>\n",
       "      <td>maistas</td>\n",
       "      <td>2021-03-12</td>\n",
       "      <td>zemes heroju testas ar susimastete koks jusu p...</td>\n",
       "      <td>0</td>\n",
       "      <td>2022-04-12</td>\n",
       "    </tr>\n",
       "    <tr>\n",
       "      <th>205542</th>\n",
       "      <td>15min.lt</td>\n",
       "      <td>maistas</td>\n",
       "      <td>2021-03-12</td>\n",
       "      <td>ruosiames velykoms trys paprastos ir gardzios ...</td>\n",
       "      <td>0</td>\n",
       "      <td>2022-04-12</td>\n",
       "    </tr>\n",
       "    <tr>\n",
       "      <th>205543</th>\n",
       "      <td>15min.lt</td>\n",
       "      <td>maistas</td>\n",
       "      <td>2021-03-10</td>\n",
       "      <td>tyrimas ar lietuviai maisto prekiu parduotuves...</td>\n",
       "      <td>0</td>\n",
       "      <td>2022-04-12</td>\n",
       "    </tr>\n",
       "  </tbody>\n",
       "</table>\n",
       "<p>205544 rows × 6 columns</p>\n",
       "</div>"
      ],
      "text/plain": [
       "          source   category        date  \\\n",
       "0         lrt.lt  lietuvoje  2022-04-09   \n",
       "1         lrt.lt  lietuvoje  2022-04-09   \n",
       "2         lrt.lt  lietuvoje  2022-04-09   \n",
       "3         lrt.lt  lietuvoje  2022-04-09   \n",
       "4         lrt.lt  lietuvoje  2022-04-09   \n",
       "...          ...        ...         ...   \n",
       "205539  15min.lt    maistas  2021-03-16   \n",
       "205540  15min.lt    maistas  2021-03-12   \n",
       "205541  15min.lt    maistas  2021-03-12   \n",
       "205542  15min.lt    maistas  2021-03-12   \n",
       "205543  15min.lt    maistas  2021-03-10   \n",
       "\n",
       "                                                    title  score last_updated  \n",
       "0       penkiu vaiku mama pasigenda valstybes pagalbos...      0   2022-04-09  \n",
       "1       simasius tikisi kad pamokos ukrainietiskai vil...      0   2022-04-09  \n",
       "2       naujausios apklausos neaiski pozicija del vers...      0   2022-04-09  \n",
       "3       kyjive irpineje bucoje apsilanke parlamentarai...      0   2022-04-09  \n",
       "4       per para lietuvoje 1750 koronaviruso atvejai m...     47   2022-04-09  \n",
       "...                                                   ...    ...          ...  \n",
       "205539  iki lojaliems klientams skelbia akcija apdorot...      0   2022-04-12  \n",
       "205540  savaitgalio pietums gardus lasisos kepsneliai ...      0   2022-04-12  \n",
       "205541  zemes heroju testas ar susimastete koks jusu p...      0   2022-04-12  \n",
       "205542  ruosiames velykoms trys paprastos ir gardzios ...      0   2022-04-12  \n",
       "205543  tyrimas ar lietuviai maisto prekiu parduotuves...      0   2022-04-12  \n",
       "\n",
       "[205544 rows x 6 columns]"
      ]
     },
     "execution_count": 7,
     "metadata": {},
     "output_type": "execute_result"
    }
   ],
   "source": [
    "# Joining both dataframes\n",
    "df = pd.concat([data_lrt, data_15min]).reset_index(drop=True)\n",
    "df"
   ]
  },
  {
   "cell_type": "markdown",
   "id": "72b9d6c6",
   "metadata": {},
   "source": [
    "### Changing data types and converting categories"
   ]
  },
  {
   "cell_type": "code",
   "execution_count": 7,
   "id": "a2137fc9",
   "metadata": {},
   "outputs": [
    {
     "name": "stdout",
     "output_type": "stream",
     "text": [
      "<class 'pandas.core.frame.DataFrame'>\n",
      "RangeIndex: 205544 entries, 0 to 205543\n",
      "Data columns (total 6 columns):\n",
      " #   Column        Non-Null Count   Dtype \n",
      "---  ------        --------------   ----- \n",
      " 0   source        205544 non-null  object\n",
      " 1   category      205544 non-null  object\n",
      " 2   date          205544 non-null  object\n",
      " 3   title         205544 non-null  object\n",
      " 4   score         205544 non-null  int64 \n",
      " 5   last_updated  205544 non-null  object\n",
      "dtypes: int64(1), object(5)\n",
      "memory usage: 9.4+ MB\n"
     ]
    }
   ],
   "source": [
    "df.info()"
   ]
  },
  {
   "cell_type": "markdown",
   "id": "04ce4d3d",
   "metadata": {},
   "source": [
    "##### No columns have missing values but source, category, date and last_updated columns have incorrect data types"
   ]
  },
  {
   "cell_type": "code",
   "execution_count": 8,
   "id": "e66c68e1",
   "metadata": {},
   "outputs": [],
   "source": [
    "# Changing columns' data types\n",
    "df[\"source\"] = df[\"source\"].astype(\"category\")\n",
    "df[\"category\"] = df[\"category\"].astype(\"category\")\n",
    "df[\"date\"] = pd.to_datetime(df[\"date\"])\n",
    "df[\"last_updated\"] = pd.to_datetime(df[\"last_updated\"])"
   ]
  },
  {
   "cell_type": "code",
   "execution_count": 9,
   "id": "56d5932b",
   "metadata": {},
   "outputs": [
    {
     "name": "stdout",
     "output_type": "stream",
     "text": [
      "<class 'pandas.core.frame.DataFrame'>\n",
      "RangeIndex: 205544 entries, 0 to 205543\n",
      "Data columns (total 6 columns):\n",
      " #   Column        Non-Null Count   Dtype         \n",
      "---  ------        --------------   -----         \n",
      " 0   source        205544 non-null  category      \n",
      " 1   category      205544 non-null  category      \n",
      " 2   date          205544 non-null  datetime64[ns]\n",
      " 3   title         205544 non-null  object        \n",
      " 4   score         205544 non-null  int64         \n",
      " 5   last_updated  205544 non-null  datetime64[ns]\n",
      "dtypes: category(2), datetime64[ns](2), int64(1), object(1)\n",
      "memory usage: 6.7+ MB\n"
     ]
    }
   ],
   "source": [
    "df.info()"
   ]
  },
  {
   "cell_type": "markdown",
   "id": "f3aee72a",
   "metadata": {},
   "source": [
    "##### Now all columns have correct data types"
   ]
  },
  {
   "cell_type": "code",
   "execution_count": 10,
   "id": "59e7c2d2",
   "metadata": {},
   "outputs": [],
   "source": [
    "# Converting categories\n",
    "# \"pozicija\" category only exists in lrt.lt website and it's structure is the same as \"nuomones\" category, so it is converted to\n",
    "# \"nuomones category\"\n",
    "df.loc[df[\"category\"]==\"pozicija\", \"category\"] = \"nuomones\"\n",
    "\n",
    "# \"lrt-tyrimai\" category only exists in lrt.lt website and it's structure is similar to \"kriminalai\" category from 15min.lt\n",
    "# website, so it is converted to \"kriminalai\" category\n",
    "df.loc[df[\"category\"]==\"lrt-tyrimai\", \"category\"] = \"kriminalai\"\n",
    "\n",
    "df[\"category\"] = df[\"category\"].cat.remove_categories([\"pozicija\", \"lrt-tyrimai\"])"
   ]
  },
  {
   "cell_type": "code",
   "execution_count": 11,
   "id": "3fc3d68f",
   "metadata": {},
   "outputs": [
    {
     "data": {
      "text/plain": [
       "(['lietuvoje',\n",
       "  'nuomones',\n",
       "  'pasaulyje',\n",
       "  'verslas',\n",
       "  'kriminalai',\n",
       "  'eismas',\n",
       "  'sportas',\n",
       "  'sveikata',\n",
       "  'mokslas-ir-it',\n",
       "  'kultura',\n",
       "  'veidai',\n",
       "  'gyvenimas',\n",
       "  'tavo-lrt',\n",
       "  'muzika',\n",
       "  'maistas'],\n",
       " 15)"
      ]
     },
     "execution_count": 11,
     "metadata": {},
     "output_type": "execute_result"
    }
   ],
   "source": [
    "df[\"category\"].unique().to_list(), len(df[\"category\"].unique().to_list())"
   ]
  },
  {
   "cell_type": "markdown",
   "id": "e6daae47",
   "metadata": {},
   "source": [
    "##### There are 15 categories now"
   ]
  },
  {
   "cell_type": "code",
   "execution_count": 12,
   "id": "432d9753",
   "metadata": {},
   "outputs": [
    {
     "data": {
      "text/html": [
       "<div>\n",
       "<style scoped>\n",
       "    .dataframe tbody tr th:only-of-type {\n",
       "        vertical-align: middle;\n",
       "    }\n",
       "\n",
       "    .dataframe tbody tr th {\n",
       "        vertical-align: top;\n",
       "    }\n",
       "\n",
       "    .dataframe thead th {\n",
       "        text-align: right;\n",
       "    }\n",
       "</style>\n",
       "<table border=\"1\" class=\"dataframe\">\n",
       "  <thead>\n",
       "    <tr style=\"text-align: right;\">\n",
       "      <th></th>\n",
       "      <th>category</th>\n",
       "      <th>title</th>\n",
       "    </tr>\n",
       "  </thead>\n",
       "  <tbody>\n",
       "    <tr>\n",
       "      <th>0</th>\n",
       "      <td>lietuvoje</td>\n",
       "      <td>penkiu vaiku mama pasigenda valstybes pagalbos...</td>\n",
       "    </tr>\n",
       "    <tr>\n",
       "      <th>1</th>\n",
       "      <td>lietuvoje</td>\n",
       "      <td>simasius tikisi kad pamokos ukrainietiskai vil...</td>\n",
       "    </tr>\n",
       "    <tr>\n",
       "      <th>2</th>\n",
       "      <td>lietuvoje</td>\n",
       "      <td>naujausios apklausos neaiski pozicija del vers...</td>\n",
       "    </tr>\n",
       "    <tr>\n",
       "      <th>3</th>\n",
       "      <td>lietuvoje</td>\n",
       "      <td>kyjive irpineje bucoje apsilanke parlamentarai...</td>\n",
       "    </tr>\n",
       "    <tr>\n",
       "      <th>4</th>\n",
       "      <td>lietuvoje</td>\n",
       "      <td>per para lietuvoje 1750 koronaviruso atvejai m...</td>\n",
       "    </tr>\n",
       "  </tbody>\n",
       "</table>\n",
       "</div>"
      ],
      "text/plain": [
       "    category                                              title\n",
       "0  lietuvoje  penkiu vaiku mama pasigenda valstybes pagalbos...\n",
       "1  lietuvoje  simasius tikisi kad pamokos ukrainietiskai vil...\n",
       "2  lietuvoje  naujausios apklausos neaiski pozicija del vers...\n",
       "3  lietuvoje  kyjive irpineje bucoje apsilanke parlamentarai...\n",
       "4  lietuvoje  per para lietuvoje 1750 koronaviruso atvejai m..."
      ]
     },
     "execution_count": 12,
     "metadata": {},
     "output_type": "execute_result"
    }
   ],
   "source": [
    "# For this project only two columns will be needed: category and title\n",
    "df_cat = df.copy()[[\"category\", \"title\"]]\n",
    "df_cat.head()"
   ]
  },
  {
   "cell_type": "markdown",
   "id": "adbb7ebc",
   "metadata": {},
   "source": [
    "### Removing title duplicates and keeping categories of interest"
   ]
  },
  {
   "cell_type": "code",
   "execution_count": 13,
   "id": "4402f7cf",
   "metadata": {},
   "outputs": [],
   "source": [
    "def keep_rare_duplicates(df):\n",
    "    \"\"\"Remove duplicated titles while keeping the less popular category\"\"\"\n",
    "    # Calculating the number of titles for every category in a dataframe\n",
    "    sorted_cat = list(df[\"category\"].value_counts().sort_values(ascending=True).index)\n",
    "    cat_num = {}\n",
    "    for num, cat in enumerate(sorted_cat):\n",
    "        cat_num[cat] = num\n",
    "    \n",
    "    # Finding duplicated titles\n",
    "    duplicated_titles = df[df.duplicated(\"title\")][\"title\"].values\n",
    "    \n",
    "    # If title was put in different categories, keeping the less popular one\n",
    "    for t in duplicated_titles:\n",
    "        smaller_cat = None\n",
    "        rows = df[df[\"title\"] == t][\"category\"]\n",
    "        indexes = list(rows.index)\n",
    "        categories = list(rows.values)\n",
    "        for c in categories:\n",
    "            if not smaller_cat:\n",
    "                smaller_cat = c\n",
    "            else:\n",
    "                if cat_num[c] < cat_num[smaller_cat]:\n",
    "                    smaller_cat = c\n",
    "        df.loc[indexes, \"category\"] = smaller_cat\n",
    "    \n",
    "    return df[~df.duplicated(\"title\")].reset_index(drop=True)  # Fully removing duplicates"
   ]
  },
  {
   "cell_type": "code",
   "execution_count": 14,
   "id": "53952335",
   "metadata": {},
   "outputs": [],
   "source": [
    "def remove_title_duplicates_set_categories(df, cat_to_keep):\n",
    "    \"\"\"Only keep categories of interest and remove duplicated titles\"\"\"\n",
    "    # Keeping categories of interest\n",
    "    df[\"category\"] = df[\"category\"].cat.set_categories(cat_to_keep)\n",
    "    df = df.dropna()\n",
    "    \n",
    "    # Droping absolute duplicates\n",
    "    df = df[~df.duplicated([\"category\", \"title\"])].reset_index(drop=True)\n",
    "    \n",
    "    # Changing remaining duplicates' categories to the ones that are less popular in the dataframe\n",
    "    df = keep_rare_duplicates(df)\n",
    "    \n",
    "    return df"
   ]
  },
  {
   "cell_type": "code",
   "execution_count": 15,
   "id": "d72b707d",
   "metadata": {},
   "outputs": [
    {
     "data": {
      "text/plain": [
       "verslas          30393\n",
       "lietuvoje        25019\n",
       "pasaulyje        24454\n",
       "sportas          16576\n",
       "kultura          15566\n",
       "gyvenimas        15453\n",
       "mokslas-ir-it    13959\n",
       "nuomones         13855\n",
       "eismas           12015\n",
       "tavo-lrt         11214\n",
       "veidai           11214\n",
       "kriminalai        6616\n",
       "sveikata          5093\n",
       "muzika            3997\n",
       "maistas            120\n",
       "Name: category, dtype: int64"
      ]
     },
     "execution_count": 15,
     "metadata": {},
     "output_type": "execute_result"
    }
   ],
   "source": [
    "# Number of titles for each category\n",
    "df_cat[\"category\"].value_counts()"
   ]
  },
  {
   "cell_type": "code",
   "execution_count": 16,
   "id": "03cd5642",
   "metadata": {},
   "outputs": [],
   "source": [
    "# Choosing which categories to keep\n",
    "categories_to_keep = [\"verslas\", \"sportas\", \"kultura\", \"mokslas-ir-it\",\n",
    "                      \"nuomones\", \"eismas\", \"kriminalai\", \"sveikata\", \"muzika\"]"
   ]
  },
  {
   "cell_type": "markdown",
   "id": "f768ef59",
   "metadata": {},
   "source": [
    "##### Choosing 9 most distinguishable categories, shown above, out of 15 because:\n",
    "- categories 'lietuvoje', 'pasaulyje', 'veidai' and 'gyvenimas' are too abstract\n",
    "- 'tavo-lrt' category only exists on lrt.lt website\n",
    "- 'maistas' category has too few data (120 titles)"
   ]
  },
  {
   "cell_type": "code",
   "execution_count": 17,
   "id": "f2c48d42",
   "metadata": {},
   "outputs": [],
   "source": [
    "# Removing duplicates from data\n",
    "data = remove_title_duplicates_set_categories(df_cat, categories_to_keep)"
   ]
  },
  {
   "cell_type": "code",
   "execution_count": 18,
   "id": "6e19dd2c",
   "metadata": {},
   "outputs": [
    {
     "name": "stdout",
     "output_type": "stream",
     "text": [
      "Number of duplicated titles:0\n"
     ]
    }
   ],
   "source": [
    "print(f\"Number of duplicated titles:{data[data.duplicated('title')].shape[0]}\")"
   ]
  },
  {
   "cell_type": "markdown",
   "id": "fa1a893a",
   "metadata": {},
   "source": [
    "### Finding top 10 similar titles' distribution between categories"
   ]
  },
  {
   "cell_type": "code",
   "execution_count": 19,
   "id": "dc651de6",
   "metadata": {},
   "outputs": [
    {
     "data": {
      "text/html": [
       "<div>\n",
       "<style scoped>\n",
       "    .dataframe tbody tr th:only-of-type {\n",
       "        vertical-align: middle;\n",
       "    }\n",
       "\n",
       "    .dataframe tbody tr th {\n",
       "        vertical-align: top;\n",
       "    }\n",
       "\n",
       "    .dataframe thead th {\n",
       "        text-align: right;\n",
       "    }\n",
       "</style>\n",
       "<table border=\"1\" class=\"dataframe\">\n",
       "  <thead>\n",
       "    <tr style=\"text-align: right;\">\n",
       "      <th></th>\n",
       "      <th>category</th>\n",
       "      <th>title</th>\n",
       "      <th>verslas</th>\n",
       "      <th>sportas</th>\n",
       "      <th>kultura</th>\n",
       "      <th>mokslas-ir-it</th>\n",
       "      <th>nuomones</th>\n",
       "      <th>eismas</th>\n",
       "      <th>kriminalai</th>\n",
       "      <th>sveikata</th>\n",
       "      <th>muzika</th>\n",
       "    </tr>\n",
       "  </thead>\n",
       "  <tbody>\n",
       "    <tr>\n",
       "      <th>0</th>\n",
       "      <td>nuomones</td>\n",
       "      <td>mykolas drunga lietuva europoje garbingai past...</td>\n",
       "      <td>0</td>\n",
       "      <td>0</td>\n",
       "      <td>0</td>\n",
       "      <td>0</td>\n",
       "      <td>0</td>\n",
       "      <td>0</td>\n",
       "      <td>0</td>\n",
       "      <td>0</td>\n",
       "      <td>0</td>\n",
       "    </tr>\n",
       "    <tr>\n",
       "      <th>1</th>\n",
       "      <td>nuomones</td>\n",
       "      <td>edwardas lucasas kaltieji</td>\n",
       "      <td>0</td>\n",
       "      <td>0</td>\n",
       "      <td>0</td>\n",
       "      <td>0</td>\n",
       "      <td>0</td>\n",
       "      <td>0</td>\n",
       "      <td>0</td>\n",
       "      <td>0</td>\n",
       "      <td>0</td>\n",
       "    </tr>\n",
       "    <tr>\n",
       "      <th>2</th>\n",
       "      <td>nuomones</td>\n",
       "      <td>rita miliute rusija reikia parklupdyti jeigu d...</td>\n",
       "      <td>0</td>\n",
       "      <td>0</td>\n",
       "      <td>0</td>\n",
       "      <td>0</td>\n",
       "      <td>0</td>\n",
       "      <td>0</td>\n",
       "      <td>0</td>\n",
       "      <td>0</td>\n",
       "      <td>0</td>\n",
       "    </tr>\n",
       "    <tr>\n",
       "      <th>3</th>\n",
       "      <td>nuomones</td>\n",
       "      <td>ramunas terleckas ar ukrainieciai po karo gris...</td>\n",
       "      <td>0</td>\n",
       "      <td>0</td>\n",
       "      <td>0</td>\n",
       "      <td>0</td>\n",
       "      <td>0</td>\n",
       "      <td>0</td>\n",
       "      <td>0</td>\n",
       "      <td>0</td>\n",
       "      <td>0</td>\n",
       "    </tr>\n",
       "    <tr>\n",
       "      <th>4</th>\n",
       "      <td>nuomones</td>\n",
       "      <td>donatas puslys karuseles aidint suviams ir mel...</td>\n",
       "      <td>0</td>\n",
       "      <td>0</td>\n",
       "      <td>0</td>\n",
       "      <td>0</td>\n",
       "      <td>0</td>\n",
       "      <td>0</td>\n",
       "      <td>0</td>\n",
       "      <td>0</td>\n",
       "      <td>0</td>\n",
       "    </tr>\n",
       "  </tbody>\n",
       "</table>\n",
       "</div>"
      ],
      "text/plain": [
       "   category                                              title  verslas  \\\n",
       "0  nuomones  mykolas drunga lietuva europoje garbingai past...        0   \n",
       "1  nuomones                          edwardas lucasas kaltieji        0   \n",
       "2  nuomones  rita miliute rusija reikia parklupdyti jeigu d...        0   \n",
       "3  nuomones  ramunas terleckas ar ukrainieciai po karo gris...        0   \n",
       "4  nuomones  donatas puslys karuseles aidint suviams ir mel...        0   \n",
       "\n",
       "   sportas  kultura  mokslas-ir-it  nuomones  eismas  kriminalai  sveikata  \\\n",
       "0        0        0              0         0       0           0         0   \n",
       "1        0        0              0         0       0           0         0   \n",
       "2        0        0              0         0       0           0         0   \n",
       "3        0        0              0         0       0           0         0   \n",
       "4        0        0              0         0       0           0         0   \n",
       "\n",
       "   muzika  \n",
       "0       0  \n",
       "1       0  \n",
       "2       0  \n",
       "3       0  \n",
       "4       0  "
      ]
     },
     "execution_count": 19,
     "metadata": {},
     "output_type": "execute_result"
    }
   ],
   "source": [
    "# Setting up a pandas dataframe\n",
    "ex_data = data.copy()\n",
    "ex_data[categories_to_keep] = 0\n",
    "ex_data.head()"
   ]
  },
  {
   "cell_type": "code",
   "execution_count": 20,
   "id": "b38d0a07",
   "metadata": {},
   "outputs": [],
   "source": [
    "# Downloading sentence transformer fitted for Lithuanian language\n",
    "embedder = SentenceTransformer('paraphrase-multilingual-MiniLM-L12-v2')"
   ]
  },
  {
   "cell_type": "code",
   "execution_count": 21,
   "id": "53d39101",
   "metadata": {},
   "outputs": [],
   "source": [
    "# Getting all titles into the list\n",
    "corpus = list(ex_data[\"title\"].values)"
   ]
  },
  {
   "cell_type": "code",
   "execution_count": 22,
   "id": "5e19c670",
   "metadata": {},
   "outputs": [],
   "source": [
    "# Encoding titles\n",
    "# !TAKES 40 MINUTES! Set 'proceed_en = True' if you want to encode titles from the start. Else, cell below loads the encoded\n",
    "# titles\n",
    "proceed_en = False\n",
    "if proceed_en:\n",
    "    corpus_embeddings = embedder.encode(corpus, convert_to_tensor=True)\n",
    "\n",
    "    with open(\"encoder_multi.sv\", \"wb\") as f: \n",
    "        pickle.dump(corpus_embeddings, f)"
   ]
  },
  {
   "cell_type": "code",
   "execution_count": 24,
   "id": "98dd1d92",
   "metadata": {
    "scrolled": true
   },
   "outputs": [],
   "source": [
    "# Finding top 10 titles and their categories\n",
    "# !TAKES MORE THAN 6 HOURS! Set 'proceed_top10 = True' if you want to calculate the results from the start. Else, dataframe\n",
    "# with calculated results will be loaded in - 2. Data Analysis - section\n",
    "proceed_top10 = False\n",
    "if proceed_top10:\n",
    "    top_k = 10 + 1\n",
    "    cat_pos = dict(zip(categories_to_keep, [categories_to_keep.index(i) for i in categories_to_keep]))\n",
    "    results_form = [0 for i in range(len(categories_to_keep))]\n",
    "    t = 0\n",
    "\n",
    "    for title in corpus:\n",
    "        query_embedding = embedder.encode(title, convert_to_tensor=True)\n",
    "\n",
    "        # Using cosine-similarity and torch.topk to find the highest 10 scores\n",
    "        cos_scores = util.cos_sim(query_embedding, corpus_embeddings)[0]\n",
    "        top_results = torch.topk(cos_scores, k=top_k)\n",
    "\n",
    "        results = results_form.copy()\n",
    "        t += 1\n",
    "        print(t)\n",
    "        for idx in top_results[1][1:]:\n",
    "            results[cat_pos[ex_data[ex_data[\"title\"] == corpus[idx]][\"category\"].values[0]]] += 1\n",
    "\n",
    "        ex_data.loc[ex_data[ex_data[\"title\"] == title].index[0], categories_to_keep] = results\n",
    "    \n",
    "    ex_data.to_csv(\"Data/pur_df.csv\")\n",
    "    pur_df = ex_data.copy()"
   ]
  },
  {
   "cell_type": "code",
   "execution_count": 25,
   "id": "2d827818",
   "metadata": {},
   "outputs": [],
   "source": [
    "# Loading dataframe with top 10 titles' distribution between categories included\n",
    "pur_df = pd.read_csv(\"Data/pur_df.csv\", index_col=0)\n",
    "pur_df[\"category\"] = pur_df[\"category\"].astype(\"category\")"
   ]
  },
  {
   "cell_type": "markdown",
   "id": "a87514a7",
   "metadata": {},
   "source": [
    "### Adding two more features"
   ]
  },
  {
   "cell_type": "code",
   "execution_count": 26,
   "id": "ff374eee",
   "metadata": {},
   "outputs": [],
   "source": [
    "# Adding length of title\n",
    "pur_df[\"title_length\"] = pur_df[\"title\"].apply(lambda x: len(x))"
   ]
  },
  {
   "cell_type": "code",
   "execution_count": 27,
   "id": "58234796",
   "metadata": {},
   "outputs": [],
   "source": [
    "# Adding number of words in a title\n",
    "pur_df[\"word_count\"] = pur_df[\"title\"].apply(lambda x: len(x.split()))"
   ]
  },
  {
   "cell_type": "markdown",
   "id": "c67de93b",
   "metadata": {},
   "source": [
    "#### In this section:\n",
    "- data was loaded\n",
    "- categories transformed\n",
    "- duplicates removed\n",
    "- additional features created"
   ]
  },
  {
   "cell_type": "markdown",
   "id": "06ae88ec",
   "metadata": {},
   "source": [
    "# 2. Data Analysis"
   ]
  },
  {
   "cell_type": "code",
   "execution_count": 30,
   "id": "af13b807",
   "metadata": {},
   "outputs": [
    {
     "data": {
      "text/html": [
       "<div>\n",
       "<style scoped>\n",
       "    .dataframe tbody tr th:only-of-type {\n",
       "        vertical-align: middle;\n",
       "    }\n",
       "\n",
       "    .dataframe tbody tr th {\n",
       "        vertical-align: top;\n",
       "    }\n",
       "\n",
       "    .dataframe thead th {\n",
       "        text-align: right;\n",
       "    }\n",
       "</style>\n",
       "<table border=\"1\" class=\"dataframe\">\n",
       "  <thead>\n",
       "    <tr style=\"text-align: right;\">\n",
       "      <th></th>\n",
       "      <th>category</th>\n",
       "      <th>title</th>\n",
       "      <th>verslas</th>\n",
       "      <th>sportas</th>\n",
       "      <th>kultura</th>\n",
       "      <th>mokslas-ir-it</th>\n",
       "      <th>nuomones</th>\n",
       "      <th>eismas</th>\n",
       "      <th>kriminalai</th>\n",
       "      <th>sveikata</th>\n",
       "      <th>muzika</th>\n",
       "      <th>title_length</th>\n",
       "      <th>word_count</th>\n",
       "    </tr>\n",
       "  </thead>\n",
       "  <tbody>\n",
       "    <tr>\n",
       "      <th>0</th>\n",
       "      <td>nuomones</td>\n",
       "      <td>mykolas drunga lietuva europoje garbingai past...</td>\n",
       "      <td>0</td>\n",
       "      <td>3</td>\n",
       "      <td>0</td>\n",
       "      <td>0</td>\n",
       "      <td>7</td>\n",
       "      <td>0</td>\n",
       "      <td>0</td>\n",
       "      <td>0</td>\n",
       "      <td>0</td>\n",
       "      <td>51</td>\n",
       "      <td>6</td>\n",
       "    </tr>\n",
       "    <tr>\n",
       "      <th>1</th>\n",
       "      <td>nuomones</td>\n",
       "      <td>edwardas lucasas kaltieji</td>\n",
       "      <td>0</td>\n",
       "      <td>4</td>\n",
       "      <td>0</td>\n",
       "      <td>0</td>\n",
       "      <td>2</td>\n",
       "      <td>0</td>\n",
       "      <td>4</td>\n",
       "      <td>0</td>\n",
       "      <td>0</td>\n",
       "      <td>25</td>\n",
       "      <td>3</td>\n",
       "    </tr>\n",
       "    <tr>\n",
       "      <th>2</th>\n",
       "      <td>nuomones</td>\n",
       "      <td>rita miliute rusija reikia parklupdyti jeigu d...</td>\n",
       "      <td>2</td>\n",
       "      <td>1</td>\n",
       "      <td>0</td>\n",
       "      <td>4</td>\n",
       "      <td>3</td>\n",
       "      <td>0</td>\n",
       "      <td>0</td>\n",
       "      <td>0</td>\n",
       "      <td>0</td>\n",
       "      <td>62</td>\n",
       "      <td>10</td>\n",
       "    </tr>\n",
       "    <tr>\n",
       "      <th>3</th>\n",
       "      <td>nuomones</td>\n",
       "      <td>ramunas terleckas ar ukrainieciai po karo gris...</td>\n",
       "      <td>2</td>\n",
       "      <td>3</td>\n",
       "      <td>0</td>\n",
       "      <td>0</td>\n",
       "      <td>3</td>\n",
       "      <td>0</td>\n",
       "      <td>2</td>\n",
       "      <td>0</td>\n",
       "      <td>0</td>\n",
       "      <td>51</td>\n",
       "      <td>8</td>\n",
       "    </tr>\n",
       "    <tr>\n",
       "      <th>4</th>\n",
       "      <td>nuomones</td>\n",
       "      <td>donatas puslys karuseles aidint suviams ir mel...</td>\n",
       "      <td>2</td>\n",
       "      <td>2</td>\n",
       "      <td>2</td>\n",
       "      <td>0</td>\n",
       "      <td>0</td>\n",
       "      <td>0</td>\n",
       "      <td>4</td>\n",
       "      <td>0</td>\n",
       "      <td>0</td>\n",
       "      <td>53</td>\n",
       "      <td>8</td>\n",
       "    </tr>\n",
       "  </tbody>\n",
       "</table>\n",
       "</div>"
      ],
      "text/plain": [
       "   category                                              title  verslas  \\\n",
       "0  nuomones  mykolas drunga lietuva europoje garbingai past...        0   \n",
       "1  nuomones                          edwardas lucasas kaltieji        0   \n",
       "2  nuomones  rita miliute rusija reikia parklupdyti jeigu d...        2   \n",
       "3  nuomones  ramunas terleckas ar ukrainieciai po karo gris...        2   \n",
       "4  nuomones  donatas puslys karuseles aidint suviams ir mel...        2   \n",
       "\n",
       "   sportas  kultura  mokslas-ir-it  nuomones  eismas  kriminalai  sveikata  \\\n",
       "0        3        0              0         7       0           0         0   \n",
       "1        4        0              0         2       0           4         0   \n",
       "2        1        0              4         3       0           0         0   \n",
       "3        3        0              0         3       0           2         0   \n",
       "4        2        2              0         0       0           4         0   \n",
       "\n",
       "   muzika  title_length  word_count  \n",
       "0       0            51           6  \n",
       "1       0            25           3  \n",
       "2       0            62          10  \n",
       "3       0            51           8  \n",
       "4       0            53           8  "
      ]
     },
     "execution_count": 30,
     "metadata": {},
     "output_type": "execute_result"
    }
   ],
   "source": [
    "# Final dataframe\n",
    "pur_df.head()"
   ]
  },
  {
   "cell_type": "code",
   "execution_count": 31,
   "id": "b76a9ef4",
   "metadata": {},
   "outputs": [
    {
     "name": "stdout",
     "output_type": "stream",
     "text": [
      "<class 'pandas.core.frame.DataFrame'>\n",
      "Int64Index: 99499 entries, 0 to 99498\n",
      "Data columns (total 13 columns):\n",
      " #   Column         Non-Null Count  Dtype   \n",
      "---  ------         --------------  -----   \n",
      " 0   category       99499 non-null  category\n",
      " 1   title          99499 non-null  object  \n",
      " 2   verslas        99499 non-null  int64   \n",
      " 3   sportas        99499 non-null  int64   \n",
      " 4   kultura        99499 non-null  int64   \n",
      " 5   mokslas-ir-it  99499 non-null  int64   \n",
      " 6   nuomones       99499 non-null  int64   \n",
      " 7   eismas         99499 non-null  int64   \n",
      " 8   kriminalai     99499 non-null  int64   \n",
      " 9   sveikata       99499 non-null  int64   \n",
      " 10  muzika         99499 non-null  int64   \n",
      " 11  title_length   99499 non-null  int64   \n",
      " 12  word_count     99499 non-null  int64   \n",
      "dtypes: category(1), int64(11), object(1)\n",
      "memory usage: 10.0+ MB\n"
     ]
    }
   ],
   "source": [
    "pur_df.info()"
   ]
  },
  {
   "cell_type": "code",
   "execution_count": 32,
   "id": "b48dcd56",
   "metadata": {},
   "outputs": [
    {
     "data": {
      "image/png": "[encoded data removed]",
      "text/plain": [
       "<Figure size 792x432 with 1 Axes>"
      ]
     },
     "metadata": {},
     "output_type": "display_data"
    }
   ],
   "source": [
    "plt.style.use(\"ggplot\")\n",
    "plt.figure(figsize=(11, 6))\n",
    "pur_df[\"category\"].value_counts().sort_values(ascending=True).plot(kind=\"barh\")\n",
    "plt.xlabel(\"Total Number of Titles\")\n",
    "plt.ylabel(\"Categories\")\n",
    "plt.title(\"Distribution of Titles Between Categories in the Final Dataset\")\n",
    "plt.show()"
   ]
  },
  {
   "cell_type": "markdown",
   "id": "36c5ba11",
   "metadata": {},
   "source": [
    "##### Final dataset has 99499 titles, 25 thousands or 1/4 of them are placed in 'verslas' category.\n",
    "\n",
    "##### Other popular categories are 'sportas' and 'kultura' having around 15 000 titles each.\n",
    "\n",
    "##### Least common categories are 'muzika' and 'sveikata' having around 5 000 titles each."
   ]
  },
  {
   "cell_type": "code",
   "execution_count": 37,
   "id": "50e625c6",
   "metadata": {},
   "outputs": [
    {
     "data": {
      "text/html": [
       "<div>\n",
       "<style scoped>\n",
       "    .dataframe tbody tr th:only-of-type {\n",
       "        vertical-align: middle;\n",
       "    }\n",
       "\n",
       "    .dataframe tbody tr th {\n",
       "        vertical-align: top;\n",
       "    }\n",
       "\n",
       "    .dataframe thead th {\n",
       "        text-align: right;\n",
       "    }\n",
       "</style>\n",
       "<table border=\"1\" class=\"dataframe\">\n",
       "  <thead>\n",
       "    <tr style=\"text-align: right;\">\n",
       "      <th></th>\n",
       "      <th>title_length</th>\n",
       "      <th>word_count</th>\n",
       "    </tr>\n",
       "  </thead>\n",
       "  <tbody>\n",
       "    <tr>\n",
       "      <th>count</th>\n",
       "      <td>99499.000000</td>\n",
       "      <td>99499.000000</td>\n",
       "    </tr>\n",
       "    <tr>\n",
       "      <th>mean</th>\n",
       "      <td>74.690308</td>\n",
       "      <td>9.785938</td>\n",
       "    </tr>\n",
       "    <tr>\n",
       "      <th>std</th>\n",
       "      <td>19.749225</td>\n",
       "      <td>2.753795</td>\n",
       "    </tr>\n",
       "    <tr>\n",
       "      <th>min</th>\n",
       "      <td>4.000000</td>\n",
       "      <td>1.000000</td>\n",
       "    </tr>\n",
       "    <tr>\n",
       "      <th>25%</th>\n",
       "      <td>61.000000</td>\n",
       "      <td>8.000000</td>\n",
       "    </tr>\n",
       "    <tr>\n",
       "      <th>50%</th>\n",
       "      <td>74.000000</td>\n",
       "      <td>10.000000</td>\n",
       "    </tr>\n",
       "    <tr>\n",
       "      <th>75%</th>\n",
       "      <td>87.000000</td>\n",
       "      <td>12.000000</td>\n",
       "    </tr>\n",
       "    <tr>\n",
       "      <th>max</th>\n",
       "      <td>250.000000</td>\n",
       "      <td>34.000000</td>\n",
       "    </tr>\n",
       "  </tbody>\n",
       "</table>\n",
       "</div>"
      ],
      "text/plain": [
       "       title_length    word_count\n",
       "count  99499.000000  99499.000000\n",
       "mean      74.690308      9.785938\n",
       "std       19.749225      2.753795\n",
       "min        4.000000      1.000000\n",
       "25%       61.000000      8.000000\n",
       "50%       74.000000     10.000000\n",
       "75%       87.000000     12.000000\n",
       "max      250.000000     34.000000"
      ]
     },
     "execution_count": 37,
     "metadata": {},
     "output_type": "execute_result"
    }
   ],
   "source": [
    "pur_df[[\"title_length\", \"word_count\"]].describe()"
   ]
  },
  {
   "cell_type": "markdown",
   "id": "019b357e",
   "metadata": {},
   "source": [
    "##### Average length of all titles is 75 characters and there are 10 words on average in them."
   ]
  },
  {
   "cell_type": "code",
   "execution_count": 38,
   "id": "59c0e6d4",
   "metadata": {},
   "outputs": [
    {
     "data": {
      "text/plain": [
       "category\n",
       "eismas           78.086892\n",
       "kriminalai       69.431251\n",
       "kultura          79.314775\n",
       "mokslas-ir-it    71.640631\n",
       "muzika           82.877070\n",
       "nuomones         61.957412\n",
       "sportas          72.736631\n",
       "sveikata         85.300756\n",
       "verslas          74.597740\n",
       "Name: title_length, dtype: float64"
      ]
     },
     "execution_count": 38,
     "metadata": {},
     "output_type": "execute_result"
    }
   ],
   "source": [
    "# Calculating mean length of a title between categories\n",
    "s_tl = pur_df.groupby(\"category\")[\"title_length\"].mean().sort_index()\n",
    "s_tl"
   ]
  },
  {
   "cell_type": "code",
   "execution_count": 39,
   "id": "4203de7f",
   "metadata": {},
   "outputs": [
    {
     "data": {
      "text/plain": [
       "category\n",
       "eismas           10.037604\n",
       "kriminalai        9.068976\n",
       "kultura          10.171714\n",
       "mokslas-ir-it     9.352027\n",
       "muzika           11.093327\n",
       "nuomones          8.132315\n",
       "sportas           9.380773\n",
       "sveikata         11.335788\n",
       "verslas          10.028692\n",
       "Name: word_count, dtype: float64"
      ]
     },
     "execution_count": 39,
     "metadata": {},
     "output_type": "execute_result"
    }
   ],
   "source": [
    "# Calculating mean number of words in a title between categories\n",
    "s_wc = pur_df.groupby(\"category\")[\"word_count\"].mean().sort_index()\n",
    "s_wc"
   ]
  },
  {
   "cell_type": "code",
   "execution_count": 40,
   "id": "02943930",
   "metadata": {},
   "outputs": [
    {
     "data": {
      "image/png": "[encoded data removed]",
      "text/plain": [
       "<Figure size 432x288 with 1 Axes>"
      ]
     },
     "metadata": {},
     "output_type": "display_data"
    }
   ],
   "source": [
    "sns.set_palette([\"red\", \"orange\", \"yellow\", \"green\", \"cyan\", \"blue\", \"purple\", \"pink\", \"black\"])\n",
    "sns.scatterplot(x=s_wc, y=s_tl, hue=s_wc.index)\n",
    "plt.legend(loc=4)\n",
    "plt.xlabel(\"Average Number of Words in a Title\")\n",
    "plt.ylabel(\"Average Length of a Title\")\n",
    "plt.title(\"Average Title Length and Number of Words Between Categories\")\n",
    "plt.show()"
   ]
  },
  {
   "cell_type": "markdown",
   "id": "9062b4c3",
   "metadata": {},
   "source": [
    "##### Linear trend can be seen between average length of a title and number of words in it.\n",
    "\n",
    "##### The largest average titles are in categories 'sveikata' and 'muzika' while the shortest are in 'nuomones' category."
   ]
  },
  {
   "cell_type": "code",
   "execution_count": 44,
   "id": "4ca22886",
   "metadata": {},
   "outputs": [
    {
     "data": {
      "image/png": "[encoded data removed]",
      "text/plain": [
       "<Figure size 1080x648 with 1 Axes>"
      ]
     },
     "metadata": {},
     "output_type": "display_data"
    }
   ],
   "source": [
    "plt.figure(figsize=(15, 9))\n",
    "np.random.seed(420)\n",
    "sns.scatterplot(x=pur_df[\"word_count\"]+np.random.uniform(low=-0.4, high=0.4, size=pur_df.shape[0]),\n",
    "                y=pur_df[\"title_length\"], hue=pur_df[\"category\"], alpha=0.2, size=0.1)\n",
    "plt.xlabel(\"Number of Words in a Title\")\n",
    "plt.ylabel(\"Length of a Title\")\n",
    "plt.title(\"Distribution of Titles by Number of Words and It's Length\")\n",
    "plt.show()"
   ]
  },
  {
   "cell_type": "markdown",
   "id": "eb7fb86a",
   "metadata": {},
   "source": [
    "##### Linear trend can be seen again.\n",
    "##### Majority of titles have between 4 and 19 words and their length is between 25 and 140 characters."
   ]
  },
  {
   "cell_type": "code",
   "execution_count": 47,
   "id": "82e3a962",
   "metadata": {},
   "outputs": [
    {
     "data": {
      "text/html": [
       "<div>\n",
       "<style scoped>\n",
       "    .dataframe tbody tr th:only-of-type {\n",
       "        vertical-align: middle;\n",
       "    }\n",
       "\n",
       "    .dataframe tbody tr th {\n",
       "        vertical-align: top;\n",
       "    }\n",
       "\n",
       "    .dataframe thead th {\n",
       "        text-align: right;\n",
       "    }\n",
       "</style>\n",
       "<table border=\"1\" class=\"dataframe\">\n",
       "  <thead>\n",
       "    <tr style=\"text-align: right;\">\n",
       "      <th></th>\n",
       "      <th>category</th>\n",
       "      <th>verslas</th>\n",
       "      <th>sportas</th>\n",
       "      <th>kultura</th>\n",
       "      <th>mokslas-ir-it</th>\n",
       "      <th>nuomones</th>\n",
       "      <th>eismas</th>\n",
       "      <th>kriminalai</th>\n",
       "      <th>sveikata</th>\n",
       "      <th>muzika</th>\n",
       "      <th>total</th>\n",
       "    </tr>\n",
       "  </thead>\n",
       "  <tbody>\n",
       "    <tr>\n",
       "      <th>0</th>\n",
       "      <td>eismas</td>\n",
       "      <td>13009</td>\n",
       "      <td>3551</td>\n",
       "      <td>2138</td>\n",
       "      <td>3592</td>\n",
       "      <td>2598</td>\n",
       "      <td>58324</td>\n",
       "      <td>9630</td>\n",
       "      <td>1101</td>\n",
       "      <td>197</td>\n",
       "      <td>94140</td>\n",
       "    </tr>\n",
       "    <tr>\n",
       "      <th>1</th>\n",
       "      <td>kriminalai</td>\n",
       "      <td>5567</td>\n",
       "      <td>3299</td>\n",
       "      <td>2418</td>\n",
       "      <td>1976</td>\n",
       "      <td>3048</td>\n",
       "      <td>7839</td>\n",
       "      <td>40622</td>\n",
       "      <td>1153</td>\n",
       "      <td>188</td>\n",
       "      <td>66110</td>\n",
       "    </tr>\n",
       "    <tr>\n",
       "      <th>2</th>\n",
       "      <td>kultura</td>\n",
       "      <td>6866</td>\n",
       "      <td>8973</td>\n",
       "      <td>97231</td>\n",
       "      <td>6849</td>\n",
       "      <td>12236</td>\n",
       "      <td>2905</td>\n",
       "      <td>3957</td>\n",
       "      <td>1586</td>\n",
       "      <td>6677</td>\n",
       "      <td>147280</td>\n",
       "    </tr>\n",
       "    <tr>\n",
       "      <th>3</th>\n",
       "      <td>mokslas-ir-it</td>\n",
       "      <td>13852</td>\n",
       "      <td>5565</td>\n",
       "      <td>7790</td>\n",
       "      <td>77507</td>\n",
       "      <td>6259</td>\n",
       "      <td>4410</td>\n",
       "      <td>3532</td>\n",
       "      <td>8441</td>\n",
       "      <td>674</td>\n",
       "      <td>128030</td>\n",
       "    </tr>\n",
       "    <tr>\n",
       "      <th>4</th>\n",
       "      <td>muzika</td>\n",
       "      <td>504</td>\n",
       "      <td>2642</td>\n",
       "      <td>7825</td>\n",
       "      <td>672</td>\n",
       "      <td>1028</td>\n",
       "      <td>278</td>\n",
       "      <td>359</td>\n",
       "      <td>115</td>\n",
       "      <td>26437</td>\n",
       "      <td>39860</td>\n",
       "    </tr>\n",
       "    <tr>\n",
       "      <th>5</th>\n",
       "      <td>nuomones</td>\n",
       "      <td>7400</td>\n",
       "      <td>6779</td>\n",
       "      <td>7605</td>\n",
       "      <td>4104</td>\n",
       "      <td>27688</td>\n",
       "      <td>2302</td>\n",
       "      <td>3355</td>\n",
       "      <td>1758</td>\n",
       "      <td>529</td>\n",
       "      <td>61520</td>\n",
       "    </tr>\n",
       "    <tr>\n",
       "      <th>6</th>\n",
       "      <td>sportas</td>\n",
       "      <td>6863</td>\n",
       "      <td>124947</td>\n",
       "      <td>6718</td>\n",
       "      <td>3729</td>\n",
       "      <td>8725</td>\n",
       "      <td>3688</td>\n",
       "      <td>4146</td>\n",
       "      <td>1347</td>\n",
       "      <td>1587</td>\n",
       "      <td>161750</td>\n",
       "    </tr>\n",
       "    <tr>\n",
       "      <th>7</th>\n",
       "      <td>sveikata</td>\n",
       "      <td>4579</td>\n",
       "      <td>1777</td>\n",
       "      <td>1614</td>\n",
       "      <td>8408</td>\n",
       "      <td>2535</td>\n",
       "      <td>1249</td>\n",
       "      <td>1779</td>\n",
       "      <td>28189</td>\n",
       "      <td>110</td>\n",
       "      <td>50240</td>\n",
       "    </tr>\n",
       "    <tr>\n",
       "      <th>8</th>\n",
       "      <td>verslas</td>\n",
       "      <td>174015</td>\n",
       "      <td>9512</td>\n",
       "      <td>7867</td>\n",
       "      <td>14761</td>\n",
       "      <td>11548</td>\n",
       "      <td>14586</td>\n",
       "      <td>8411</td>\n",
       "      <td>4758</td>\n",
       "      <td>602</td>\n",
       "      <td>246060</td>\n",
       "    </tr>\n",
       "  </tbody>\n",
       "</table>\n",
       "</div>"
      ],
      "text/plain": [
       "        category  verslas  sportas  kultura  mokslas-ir-it  nuomones  eismas  \\\n",
       "0         eismas    13009     3551     2138           3592      2598   58324   \n",
       "1     kriminalai     5567     3299     2418           1976      3048    7839   \n",
       "2        kultura     6866     8973    97231           6849     12236    2905   \n",
       "3  mokslas-ir-it    13852     5565     7790          77507      6259    4410   \n",
       "4         muzika      504     2642     7825            672      1028     278   \n",
       "5       nuomones     7400     6779     7605           4104     27688    2302   \n",
       "6        sportas     6863   124947     6718           3729      8725    3688   \n",
       "7       sveikata     4579     1777     1614           8408      2535    1249   \n",
       "8        verslas   174015     9512     7867          14761     11548   14586   \n",
       "\n",
       "   kriminalai  sveikata  muzika   total  \n",
       "0        9630      1101     197   94140  \n",
       "1       40622      1153     188   66110  \n",
       "2        3957      1586    6677  147280  \n",
       "3        3532      8441     674  128030  \n",
       "4         359       115   26437   39860  \n",
       "5        3355      1758     529   61520  \n",
       "6        4146      1347    1587  161750  \n",
       "7        1779     28189     110   50240  \n",
       "8        8411      4758     602  246060  "
      ]
     },
     "execution_count": 47,
     "metadata": {},
     "output_type": "execute_result"
    }
   ],
   "source": [
    "# Calculating top 10 similar titles' distribution between categories for each category\n",
    "stat_tab = pur_df[pur_df.columns[:-2]].groupby(\"category\").sum().reset_index()\n",
    "\n",
    "# Calculating total number of scores for each category\n",
    "stat_tab[\"total\"] = stat_tab[categories_to_keep].sum(axis=1)\n",
    "stat_tab"
   ]
  },
  {
   "cell_type": "code",
   "execution_count": 48,
   "id": "f51d3836",
   "metadata": {
    "scrolled": true
   },
   "outputs": [
    {
     "data": {
      "text/html": [
       "<div>\n",
       "<style scoped>\n",
       "    .dataframe tbody tr th:only-of-type {\n",
       "        vertical-align: middle;\n",
       "    }\n",
       "\n",
       "    .dataframe tbody tr th {\n",
       "        vertical-align: top;\n",
       "    }\n",
       "\n",
       "    .dataframe thead th {\n",
       "        text-align: right;\n",
       "    }\n",
       "</style>\n",
       "<table border=\"1\" class=\"dataframe\">\n",
       "  <thead>\n",
       "    <tr style=\"text-align: right;\">\n",
       "      <th></th>\n",
       "      <th>verslas</th>\n",
       "      <th>sportas</th>\n",
       "      <th>kultura</th>\n",
       "      <th>mokslas-ir-it</th>\n",
       "      <th>nuomones</th>\n",
       "      <th>eismas</th>\n",
       "      <th>kriminalai</th>\n",
       "      <th>sveikata</th>\n",
       "      <th>muzika</th>\n",
       "    </tr>\n",
       "    <tr>\n",
       "      <th>category</th>\n",
       "      <th></th>\n",
       "      <th></th>\n",
       "      <th></th>\n",
       "      <th></th>\n",
       "      <th></th>\n",
       "      <th></th>\n",
       "      <th></th>\n",
       "      <th></th>\n",
       "      <th></th>\n",
       "    </tr>\n",
       "  </thead>\n",
       "  <tbody>\n",
       "    <tr>\n",
       "      <th>eismas</th>\n",
       "      <td>13.8</td>\n",
       "      <td>3.8</td>\n",
       "      <td>2.3</td>\n",
       "      <td>3.8</td>\n",
       "      <td>2.8</td>\n",
       "      <td>62.0</td>\n",
       "      <td>10.2</td>\n",
       "      <td>1.2</td>\n",
       "      <td>0.2</td>\n",
       "    </tr>\n",
       "    <tr>\n",
       "      <th>kriminalai</th>\n",
       "      <td>8.4</td>\n",
       "      <td>5.0</td>\n",
       "      <td>3.7</td>\n",
       "      <td>3.0</td>\n",
       "      <td>4.6</td>\n",
       "      <td>11.9</td>\n",
       "      <td>61.4</td>\n",
       "      <td>1.7</td>\n",
       "      <td>0.3</td>\n",
       "    </tr>\n",
       "    <tr>\n",
       "      <th>kultura</th>\n",
       "      <td>4.7</td>\n",
       "      <td>6.1</td>\n",
       "      <td>66.0</td>\n",
       "      <td>4.7</td>\n",
       "      <td>8.3</td>\n",
       "      <td>2.0</td>\n",
       "      <td>2.7</td>\n",
       "      <td>1.1</td>\n",
       "      <td>4.5</td>\n",
       "    </tr>\n",
       "    <tr>\n",
       "      <th>mokslas-ir-it</th>\n",
       "      <td>10.8</td>\n",
       "      <td>4.3</td>\n",
       "      <td>6.1</td>\n",
       "      <td>60.5</td>\n",
       "      <td>4.9</td>\n",
       "      <td>3.4</td>\n",
       "      <td>2.8</td>\n",
       "      <td>6.6</td>\n",
       "      <td>0.5</td>\n",
       "    </tr>\n",
       "    <tr>\n",
       "      <th>muzika</th>\n",
       "      <td>1.3</td>\n",
       "      <td>6.6</td>\n",
       "      <td>19.6</td>\n",
       "      <td>1.7</td>\n",
       "      <td>2.6</td>\n",
       "      <td>0.7</td>\n",
       "      <td>0.9</td>\n",
       "      <td>0.3</td>\n",
       "      <td>66.3</td>\n",
       "    </tr>\n",
       "    <tr>\n",
       "      <th>nuomones</th>\n",
       "      <td>12.0</td>\n",
       "      <td>11.0</td>\n",
       "      <td>12.4</td>\n",
       "      <td>6.7</td>\n",
       "      <td>45.0</td>\n",
       "      <td>3.7</td>\n",
       "      <td>5.5</td>\n",
       "      <td>2.9</td>\n",
       "      <td>0.9</td>\n",
       "    </tr>\n",
       "    <tr>\n",
       "      <th>sportas</th>\n",
       "      <td>4.2</td>\n",
       "      <td>77.2</td>\n",
       "      <td>4.2</td>\n",
       "      <td>2.3</td>\n",
       "      <td>5.4</td>\n",
       "      <td>2.3</td>\n",
       "      <td>2.6</td>\n",
       "      <td>0.8</td>\n",
       "      <td>1.0</td>\n",
       "    </tr>\n",
       "    <tr>\n",
       "      <th>sveikata</th>\n",
       "      <td>9.1</td>\n",
       "      <td>3.5</td>\n",
       "      <td>3.2</td>\n",
       "      <td>16.7</td>\n",
       "      <td>5.0</td>\n",
       "      <td>2.5</td>\n",
       "      <td>3.5</td>\n",
       "      <td>56.1</td>\n",
       "      <td>0.2</td>\n",
       "    </tr>\n",
       "    <tr>\n",
       "      <th>verslas</th>\n",
       "      <td>70.7</td>\n",
       "      <td>3.9</td>\n",
       "      <td>3.2</td>\n",
       "      <td>6.0</td>\n",
       "      <td>4.7</td>\n",
       "      <td>5.9</td>\n",
       "      <td>3.4</td>\n",
       "      <td>1.9</td>\n",
       "      <td>0.2</td>\n",
       "    </tr>\n",
       "  </tbody>\n",
       "</table>\n",
       "</div>"
      ],
      "text/plain": [
       "               verslas  sportas  kultura  mokslas-ir-it  nuomones  eismas  \\\n",
       "category                                                                    \n",
       "eismas            13.8      3.8      2.3            3.8       2.8    62.0   \n",
       "kriminalai         8.4      5.0      3.7            3.0       4.6    11.9   \n",
       "kultura            4.7      6.1     66.0            4.7       8.3     2.0   \n",
       "mokslas-ir-it     10.8      4.3      6.1           60.5       4.9     3.4   \n",
       "muzika             1.3      6.6     19.6            1.7       2.6     0.7   \n",
       "nuomones          12.0     11.0     12.4            6.7      45.0     3.7   \n",
       "sportas            4.2     77.2      4.2            2.3       5.4     2.3   \n",
       "sveikata           9.1      3.5      3.2           16.7       5.0     2.5   \n",
       "verslas           70.7      3.9      3.2            6.0       4.7     5.9   \n",
       "\n",
       "               kriminalai  sveikata  muzika  \n",
       "category                                     \n",
       "eismas               10.2       1.2     0.2  \n",
       "kriminalai           61.4       1.7     0.3  \n",
       "kultura               2.7       1.1     4.5  \n",
       "mokslas-ir-it         2.8       6.6     0.5  \n",
       "muzika                0.9       0.3    66.3  \n",
       "nuomones              5.5       2.9     0.9  \n",
       "sportas               2.6       0.8     1.0  \n",
       "sveikata              3.5      56.1     0.2  \n",
       "verslas               3.4       1.9     0.2  "
      ]
     },
     "execution_count": 48,
     "metadata": {},
     "output_type": "execute_result"
    }
   ],
   "source": [
    "# Converting scores to percentages within each category\n",
    "stat_tab[categories_to_keep] = stat_tab.apply(lambda x: x[categories_to_keep]/x[\"total\"]*100, axis=1).apply(lambda x: x.round(1))\n",
    "stat_tab = stat_tab.set_index(\"category\").drop(\"total\", axis=1)\n",
    "stat_tab"
   ]
  },
  {
   "cell_type": "code",
   "execution_count": 51,
   "id": "e7084ab1",
   "metadata": {},
   "outputs": [
    {
     "data": {
      "image/png": "[encoded data removed]",
      "text/plain": [
       "<Figure size 1080x648 with 1 Axes>"
      ]
     },
     "metadata": {},
     "output_type": "display_data"
    }
   ],
   "source": [
    "plt.figure(figsize=(15, 9))\n",
    "\n",
    "c_map = sns.color_palette([\"red\", \"orange\", \"yellow\", \"green\", \"cyan\", \"blue\", \"purple\", \"pink\", \"lime\"])\n",
    "ordered_cols = [r[0] for r in sorted([(cat, stat_tab.loc[cat, cat]) for cat in categories_to_keep],\n",
    "                                     key=lambda x: x[1], reverse=True)]\n",
    "cat_color = dict(zip(ordered_cols, [i[0] for i in enumerate(ordered_cols)]))\n",
    "\n",
    "\n",
    "for cat in ordered_cols:\n",
    "    row = stat_tab.loc[cat, :].sort_values(ascending=False)\n",
    "    idxs = row.index\n",
    "    vals = row.values\n",
    "    for i, tup in enumerate(zip(idxs, vals)):\n",
    "        plt.bar(x=cat, height=tup[1], bottom=sum(vals[:i]), label=tup[0], color=c_map[cat_color.get(tup[0])])\n",
    "        if not i:\n",
    "            plt.text(s=str(tup[1]), x=tup[0], y=tup[1]/2, rotation=90, fontsize=20, ha=\"center\", va=\"center\")\n",
    "\n",
    "\n",
    "plt.legend(stat_tab.loc[ordered_cols[0], :].sort_values(ascending=False).index, loc=1)\n",
    "plt.hlines(y=50, xmin=-0.5, xmax=len(ordered_cols)-0.5, colors=[0.15, 0.2, 0], linestyle=\"dashed\")\n",
    "plt.text(s=\"50%\", x=-0.7, y =50, ha=\"center\", va=\"center\", fontsize=14)\n",
    "plt.title(\"Average Distribution Between Categories of Top 10 Closest Titles for Every Title in a Category Group\", fontdict={\"size\":20})\n",
    "plt.xlabel(\"Categories\", fontdict={\"size\":18})\n",
    "plt.ylabel(\"Average Distribution, %\", fontdict={\"size\":18})\n",
    "plt.show()"
   ]
  },
  {
   "cell_type": "markdown",
   "id": "31c11c46",
   "metadata": {},
   "source": [
    "##### It can be seen that titles from 'sportas' category should be the easiest to distinguish from the others - more than 3/4 of all titles from this category had a title from the same category very similar to itself.\n",
    "##### 'verslas' category has the second highest score here even though it is noticeably mixed up with 'eismas', 'mokslas-it-it', 'sveikata'  and 'nuomones' categories. The reason for it may be the fact that this category has a huge number of titles in the dataset - around 25 %, so it was less difficult for titles to find a similar one from the same category.\n",
    "##### 'muzika' category is mixed up with 'kultura' the most and the later tend to be similar with 'nuomones' category.\n",
    "##### 'eismas' is mixed up with 'kriminalai' - it may be due to the fact that incidents often involve traffic.\n",
    "##### Titles from 'sveikata' category find similarity with titles from 'mokslas-ir-it' the most.\n",
    "##### The chart suggests that the hardest task will be to distinguish titles from 'nuomones' category because it mixes up with other categories the most. This may be the truth because titles from this category can be on many topics and the reason for them to be classified as 'nuomones' is that it represents someone's opinion."
   ]
  },
  {
   "cell_type": "markdown",
   "id": "b6ccc117",
   "metadata": {},
   "source": [
    "# 3. Model"
   ]
  },
  {
   "cell_type": "markdown",
   "id": "dc94347d",
   "metadata": {},
   "source": [
    "### Finding useful features for the model"
   ]
  },
  {
   "cell_type": "code",
   "execution_count": 52,
   "id": "9f61af37",
   "metadata": {},
   "outputs": [],
   "source": [
    "from imblearn.over_sampling import RandomOverSampler\n",
    "from sklearn.feature_extraction.text import CountVectorizer\n",
    "from sklearn.linear_model import LogisticRegression\n",
    "from sklearn.model_selection import train_test_split, GridSearchCV\n",
    "from sklearn.metrics import accuracy_score, f1_score\n",
    "from sklearn.preprocessing import FunctionTransformer, StandardScaler\n",
    "from sklearn.pipeline import FeatureUnion, Pipeline\n",
    "import scipy"
   ]
  },
  {
   "cell_type": "code",
   "execution_count": 53,
   "id": "98a8d322",
   "metadata": {},
   "outputs": [],
   "source": [
    "def split_data(df, X_title_col, X_num_cols, target_col, use_oversampler):\n",
    "    \"\"\"Split data into train and test datasets\"\"\"\n",
    "    if not X_num_cols:  # Only 'title' feature should be in the final X datasets\n",
    "        # Splitting data into train and test sets\n",
    "        X_train, X_test, y_train, y_test = train_test_split(df[X_title_col], df[target_col], test_size=0.3, random_state=420)\n",
    "    \n",
    "    else:  # Numerical features should be included in the final X datasets\n",
    "        # Splitting data into train and test sets\n",
    "        X_cols = X_num_cols.copy()\n",
    "        X_cols.append(X_title_col)\n",
    "        X_train, X_test, y_train, y_test = train_test_split(df[X_cols], df[target_col], test_size=0.3, random_state=420)\n",
    "    \n",
    "    # Checking if oversampling should be used\n",
    "    if use_oversampler == \"RandOv\":\n",
    "        ovs = RandomOverSampler(random_state=420)\n",
    "        X_train, y_train = ovs.fit_resample(X_train, y_train)\n",
    "    \n",
    "    return X_train, X_test, y_train, y_test"
   ]
  },
  {
   "cell_type": "markdown",
   "id": "c9ca468d",
   "metadata": {},
   "source": [
    "##### Splitting data into training and testing feature sets and their target labels, in order for it to be in a suitable format for the model and to have 'unseen' data to test the model with.\n",
    "##### Oversampling increases the amount of total titles in the dataset for smaller categories so that the share for each of them would be equal."
   ]
  },
  {
   "cell_type": "code",
   "execution_count": 54,
   "id": "7732aac4",
   "metadata": {},
   "outputs": [],
   "source": [
    "def vectorize_titles(X_train, X_test, X_title_col, X_num_cols):\n",
    "    \"\"\"Convert titles to vectors\"\"\"\n",
    "    vectorizer = CountVectorizer()\n",
    "    \n",
    "    if not X_num_cols:  # X datasets contain only 'title' feature\n",
    "        X_train_vect = vectorizer.fit_transform(X_train.values)\n",
    "        X_test_vect = vectorizer.transform(X_test.values)\n",
    "    \n",
    "    else:  # X datasets contain more than one feature\n",
    "        X_train_vect = vectorizer.fit_transform(X_train[X_title_col].values)\n",
    "        X_test_vect = vectorizer.transform(X_test[X_title_col].values)\n",
    "    \n",
    "    return X_train_vect, X_test_vect"
   ]
  },
  {
   "cell_type": "markdown",
   "id": "df804be6",
   "metadata": {},
   "source": [
    "##### Processing titles from text to numeric data - vectors, so it could be used in the model."
   ]
  },
  {
   "cell_type": "code",
   "execution_count": 55,
   "id": "56794ef3",
   "metadata": {},
   "outputs": [],
   "source": [
    "def scale_features(X_train, X_test):\n",
    "    \"\"\"Scale numerical features\"\"\"\n",
    "    sc = StandardScaler()\n",
    "    \n",
    "    X_train_scaled = sc.fit_transform(X_train)\n",
    "    X_test_scaled = sc.transform(X_test)\n",
    "    \n",
    "    return X_train_scaled, X_test_scaled"
   ]
  },
  {
   "cell_type": "markdown",
   "id": "e55b997a",
   "metadata": {},
   "source": [
    "##### Scaling numeric features helps the model to better fit the data."
   ]
  },
  {
   "cell_type": "code",
   "execution_count": 56,
   "id": "ca4e2963",
   "metadata": {},
   "outputs": [],
   "source": [
    "def prepare_data(df, X_title_col, X_scale_cols, X_non_scale_cols, target_col, use_oversampler):\n",
    "    \"\"\"Preparing data for model\"\"\"\n",
    "    # Checking if there are more features in X datasets excluding 'title'\n",
    "    X_num_cols = X_scale_cols.copy()\n",
    "    X_num_cols += X_non_scale_cols\n",
    "    \n",
    "    # Splitting data into train and test sets\n",
    "    X_train, X_test, y_train, y_test = split_data(df, X_title_col, X_num_cols, target_col, use_oversampler)\n",
    "    \n",
    "    # Vectorizing titles\n",
    "    X_train_vect, X_test_vect = vectorize_titles(X_train, X_test, X_title_col, X_num_cols)\n",
    "    \n",
    "    if X_scale_cols:  # Scalable features should be included in the final X datasets\n",
    "        # Scaling numerical features\n",
    "        X_train_scaled, X_test_scaled = scale_features(X_train[X_scale_cols], X_test[X_scale_cols])\n",
    "        \n",
    "        # Combining vectorized titles and scaled features\n",
    "        X_train_final = scipy.sparse.hstack([X_train_vect, X_train_scaled])\n",
    "        X_test_final = scipy.sparse.hstack([X_test_vect, X_test_scaled])\n",
    "        \n",
    "    else:  # No scalable features the X datasets\n",
    "        X_train_final, X_test_final = X_train_vect, X_test_vect\n",
    "    \n",
    "    if X_non_scale_cols:  # Additional numerical features should be included in the final X datasets\n",
    "        X_train_final = scipy.sparse.hstack([X_train_final, X_train[X_non_scale_cols]])\n",
    "        X_test_final = scipy.sparse.hstack([X_test_final, X_test[X_non_scale_cols]])\n",
    "    \n",
    "    # Converting target labels from strings to numbers\n",
    "    cat_to_label = dict(zip(categories_to_keep, [i[0] for i in enumerate(categories_to_keep)]))\n",
    "    y_train = np.array(y_train.map(cat_to_label).values)\n",
    "    y_test = np.array(y_test.map(cat_to_label).values)\n",
    "    \n",
    "    return X_train_final, X_test_final, y_train, y_test"
   ]
  },
  {
   "cell_type": "markdown",
   "id": "7553155a",
   "metadata": {},
   "source": [
    "##### Using previous 3 functions to convert the data into suitable format for the model."
   ]
  },
  {
   "cell_type": "code",
   "execution_count": 57,
   "id": "ec36ef90",
   "metadata": {},
   "outputs": [],
   "source": [
    "def model_and_stats(df, X_title_col=\"title\", X_scale_cols: list = [], X_non_scale_cols: list = [], target_col=\"category\",\n",
    "                   use_oversampler: [\"None\", \"RandOv\"] = \"None\"):\n",
    "    \"\"\"Train model and get results\"\"\"\n",
    "    # Getting data\n",
    "    X_train, X_test, y_train, y_test = prepare_data(df, X_title_col, X_scale_cols, X_non_scale_cols, target_col, use_oversampler)\n",
    "    \n",
    "    # Creating and training the model\n",
    "    lr = LogisticRegression(multi_class=\"ovr\", random_state=420, max_iter=500)\n",
    "    lr.fit(X_train, y_train)\n",
    "    \n",
    "    # Getting predictions and calculating model performance results\n",
    "    y_pred = lr.predict(X_test)\n",
    "    train_acc = lr.score(X_train, y_train)\n",
    "    test_acc = accuracy_score(y_test, y_pred)\n",
    "    test_f1 = f1_score(y_test, y_pred, average=\"weighted\")\n",
    "    \n",
    "    print(f\"Model's accuracy on training data: {train_acc:.5f}\")\n",
    "    print(f\"Model's accuracy on test data: {test_acc:.5f}\")\n",
    "    print(f\"Model's f1_score: {test_f1:.5f}\")"
   ]
  },
  {
   "cell_type": "markdown",
   "id": "bff978fe",
   "metadata": {},
   "source": [
    "##### Getting data, creating and training the model, calculating results. These functions were created to help compare the performance of  models trained with different data."
   ]
  },
  {
   "cell_type": "markdown",
   "id": "6959ec88",
   "metadata": {},
   "source": [
    "#### Now for better understanding the steps of training the benchmark model will be explained"
   ]
  },
  {
   "cell_type": "code",
   "execution_count": 58,
   "id": "3264627d",
   "metadata": {},
   "outputs": [],
   "source": [
    "# Everytime data will be split into 70% training and 30% testing datasets.\n",
    "# The same (random_state) will be used for reproducibility.\n",
    "X_train, X_test, y_train, y_test = train_test_split(pur_df[\"title\"], pur_df[\"category\"], test_size=0.3,\n",
    "                                                    random_state=420)"
   ]
  },
  {
   "cell_type": "code",
   "execution_count": 59,
   "id": "9d06d23d",
   "metadata": {},
   "outputs": [
    {
     "data": {
      "text/plain": [
       "(69649, 69649, 29850, 29850)"
      ]
     },
     "execution_count": 59,
     "metadata": {},
     "output_type": "execute_result"
    }
   ],
   "source": [
    "X_train.size, y_train.size, X_test.size, y_test.size"
   ]
  },
  {
   "cell_type": "markdown",
   "id": "40d2b8df",
   "metadata": {},
   "source": [
    "##### Train set has 69649 titles and test has 29850 titles from every category."
   ]
  },
  {
   "cell_type": "code",
   "execution_count": 61,
   "id": "d5bbfd8e",
   "metadata": {},
   "outputs": [
    {
     "data": {
      "text/plain": [
       "verslas          2466.285714\n",
       "sportas          1620.428571\n",
       "kultura          1462.857143\n",
       "mokslas-ir-it    1282.428571\n",
       "eismas            944.142857\n",
       "kriminalai        665.714286\n",
       "nuomones          611.285714\n",
       "sveikata          494.428571\n",
       "muzika            402.285714\n",
       "Name: category, dtype: float64"
      ]
     },
     "execution_count": 61,
     "metadata": {},
     "output_type": "execute_result"
    }
   ],
   "source": [
    "# 10% of titles ditribution between categories in the train dataset\n",
    "y_train.value_counts()/7  # dividing by 7 because train set is 7 parts of the whole dataset"
   ]
  },
  {
   "cell_type": "code",
   "execution_count": 62,
   "id": "e22d33a3",
   "metadata": {},
   "outputs": [
    {
     "data": {
      "text/plain": [
       "verslas          2447.333333\n",
       "sportas          1610.666667\n",
       "kultura          1496.000000\n",
       "mokslas-ir-it    1275.333333\n",
       "eismas            935.000000\n",
       "kriminalai        650.333333\n",
       "nuomones          624.333333\n",
       "sveikata          521.000000\n",
       "muzika            390.000000\n",
       "Name: category, dtype: float64"
      ]
     },
     "execution_count": 62,
     "metadata": {},
     "output_type": "execute_result"
    }
   ],
   "source": [
    "# 10% of titles ditribution between categories in the test dataset\n",
    "y_test.value_counts()/3  # dividing by 3 because test set is 3 parts of the whole dataset"
   ]
  },
  {
   "cell_type": "code",
   "execution_count": 63,
   "id": "9b1c0556",
   "metadata": {},
   "outputs": [
    {
     "data": {
      "text/plain": [
       "verslas          1.007744\n",
       "sportas          1.006061\n",
       "kultura          0.977846\n",
       "mokslas-ir-it    1.005563\n",
       "eismas           1.009778\n",
       "kriminalai       1.023651\n",
       "nuomones         0.979102\n",
       "sveikata         0.948999\n",
       "muzika           1.031502\n",
       "Name: category, dtype: float64"
      ]
     },
     "execution_count": 63,
     "metadata": {},
     "output_type": "execute_result"
    }
   ],
   "source": [
    "(y_train.value_counts()/7) / (y_test.value_counts()/3)"
   ]
  },
  {
   "cell_type": "markdown",
   "id": "fa93d396",
   "metadata": {},
   "source": [
    "##### Both datasets have very similar distribution of titles between categories - scores are near 1."
   ]
  },
  {
   "cell_type": "code",
   "execution_count": 64,
   "id": "fd39b456",
   "metadata": {},
   "outputs": [
    {
     "data": {
      "text/plain": [
       "{'verslas': 0,\n",
       " 'sportas': 1,\n",
       " 'kultura': 2,\n",
       " 'mokslas-ir-it': 3,\n",
       " 'nuomones': 4,\n",
       " 'eismas': 5,\n",
       " 'kriminalai': 6,\n",
       " 'sveikata': 7,\n",
       " 'muzika': 8}"
      ]
     },
     "execution_count": 64,
     "metadata": {},
     "output_type": "execute_result"
    }
   ],
   "source": [
    "# This dictionary will be used to encode categories\n",
    "cat_to_label = dict(zip(categories_to_keep, [i[0] for i in enumerate(categories_to_keep)]))\n",
    "cat_to_label"
   ]
  },
  {
   "cell_type": "code",
   "execution_count": 65,
   "id": "0839e610",
   "metadata": {},
   "outputs": [],
   "source": [
    "# Encoding categories\n",
    "y_train = np.array(y_train.map(cat_to_label).values)\n",
    "y_test = np.array(y_test.map(cat_to_label).values)"
   ]
  },
  {
   "cell_type": "code",
   "execution_count": 66,
   "id": "82c33edf",
   "metadata": {},
   "outputs": [
    {
     "data": {
      "text/plain": [
       "array([5, 3, 5, ..., 5, 8, 0], dtype=int64)"
      ]
     },
     "execution_count": 66,
     "metadata": {},
     "output_type": "execute_result"
    }
   ],
   "source": [
    "y_train"
   ]
  },
  {
   "cell_type": "code",
   "execution_count": 67,
   "id": "c3f6923f",
   "metadata": {},
   "outputs": [],
   "source": [
    "# Creating count vectorizer and converting titles in the train dataset to vectors\n",
    "vectorizer = CountVectorizer()\n",
    "\n",
    "X_train_vect = vectorizer.fit_transform(X_train.values)"
   ]
  },
  {
   "cell_type": "code",
   "execution_count": 68,
   "id": "7b45b6a9",
   "metadata": {},
   "outputs": [
    {
     "data": {
      "text/plain": [
       "<69649x80012 sparse matrix of type '<class 'numpy.int64'>'\n",
       "\twith 658980 stored elements in Compressed Sparse Row format>"
      ]
     },
     "execution_count": 68,
     "metadata": {},
     "output_type": "execute_result"
    }
   ],
   "source": [
    "X_train_vect"
   ]
  },
  {
   "cell_type": "code",
   "execution_count": 69,
   "id": "86d4efa8",
   "metadata": {},
   "outputs": [
    {
     "data": {
      "text/plain": [
       "array(['000', '007', '02', ..., 'zyniai', 'zyniu', 'zyrkovo'],\n",
       "      dtype=object)"
      ]
     },
     "execution_count": 69,
     "metadata": {},
     "output_type": "execute_result"
    }
   ],
   "source": [
    "vectorizer.get_feature_names_out()"
   ]
  },
  {
   "cell_type": "markdown",
   "id": "cb767306",
   "metadata": {},
   "source": [
    "##### The title column was converted to 80012 columns for each set of characters, for example '000' or 'zyniai', that was found in titles."
   ]
  },
  {
   "cell_type": "code",
   "execution_count": 70,
   "id": "494970bf",
   "metadata": {},
   "outputs": [],
   "source": [
    "# Converting titles in the test dataset to vectors\n",
    "X_test_vect = vectorizer.transform(X_test)"
   ]
  },
  {
   "cell_type": "code",
   "execution_count": 71,
   "id": "83cbf78d",
   "metadata": {},
   "outputs": [
    {
     "data": {
      "text/plain": [
       "<29850x80012 sparse matrix of type '<class 'numpy.int64'>'\n",
       "\twith 265559 stored elements in Compressed Sparse Row format>"
      ]
     },
     "execution_count": 71,
     "metadata": {},
     "output_type": "execute_result"
    }
   ],
   "source": [
    "X_test_vect"
   ]
  },
  {
   "cell_type": "code",
   "execution_count": 72,
   "id": "ee99be18",
   "metadata": {},
   "outputs": [],
   "source": [
    "# Creating model - multiclass logistic regression\n",
    "# (random_state) will be used for reproducibility and (max_iter) is increased, in order for the model to have enough iterations\n",
    "# to fit the data\n",
    "lr = LogisticRegression(multi_class=\"ovr\", random_state=420, max_iter=500)"
   ]
  },
  {
   "cell_type": "code",
   "execution_count": 73,
   "id": "75f8da68",
   "metadata": {
    "scrolled": true
   },
   "outputs": [
    {
     "data": {
      "text/plain": [
       "LogisticRegression(max_iter=500, multi_class='ovr', random_state=420)"
      ]
     },
     "execution_count": 73,
     "metadata": {},
     "output_type": "execute_result"
    }
   ],
   "source": [
    "# Training the model with train dataset\n",
    "lr.fit(X_train_vect, y_train)"
   ]
  },
  {
   "cell_type": "code",
   "execution_count": 74,
   "id": "0d311e6a",
   "metadata": {},
   "outputs": [
    {
     "data": {
      "text/plain": [
       "array([0, 4, 5, ..., 2, 1, 3], dtype=int64)"
      ]
     },
     "execution_count": 74,
     "metadata": {},
     "output_type": "execute_result"
    }
   ],
   "source": [
    "# Using the model to predict the categories for titles in the test dataset\n",
    "y_pred = lr.predict(X_test_vect)\n",
    "y_pred"
   ]
  },
  {
   "cell_type": "code",
   "execution_count": 75,
   "id": "4db28f65",
   "metadata": {},
   "outputs": [
    {
     "data": {
      "text/plain": [
       "array([0, 4, 5, ..., 2, 1, 3], dtype=int64)"
      ]
     },
     "execution_count": 75,
     "metadata": {},
     "output_type": "execute_result"
    }
   ],
   "source": [
    "y_test"
   ]
  },
  {
   "cell_type": "markdown",
   "id": "d53d3d1a",
   "metadata": {},
   "source": [
    "##### It is visible that first 3 and last 3 titles were categorized correctly but scoring metrics should be used to get the model's performance"
   ]
  },
  {
   "cell_type": "code",
   "execution_count": 76,
   "id": "bfc1ee1c",
   "metadata": {},
   "outputs": [
    {
     "data": {
      "text/plain": [
       "0.979339258280808"
      ]
     },
     "execution_count": 76,
     "metadata": {},
     "output_type": "execute_result"
    }
   ],
   "source": [
    "# Calculating the accuracy score that model reaches then predicting categories of titles from train dataset\n",
    "lr.score(X_train_vect, y_train)"
   ]
  },
  {
   "cell_type": "code",
   "execution_count": 77,
   "id": "7dfdaac1",
   "metadata": {},
   "outputs": [
    {
     "data": {
      "text/plain": [
       "0.8705192629815746"
      ]
     },
     "execution_count": 77,
     "metadata": {},
     "output_type": "execute_result"
    }
   ],
   "source": [
    "# Calculating the accuracy score that model reaches then predicting categories of titles from test dataset\n",
    "accuracy_score(y_test, y_pred)"
   ]
  },
  {
   "cell_type": "code",
   "execution_count": 78,
   "id": "2527aec2",
   "metadata": {},
   "outputs": [
    {
     "data": {
      "text/plain": [
       "0.8701074755147508"
      ]
     },
     "execution_count": 78,
     "metadata": {},
     "output_type": "execute_result"
    }
   ],
   "source": [
    "# Calculating the f1 score that model reaches then predicting categories of titles from test dataset\n",
    "f1_score(y_test, y_pred, average=\"weighted\")"
   ]
  },
  {
   "cell_type": "markdown",
   "id": "d86cd2c1",
   "metadata": {},
   "source": [
    "##### Benchmark model has 0.87052 accuracy and 0.87011 f1 score - the higher the better"
   ]
  },
  {
   "cell_type": "markdown",
   "id": "db333a93",
   "metadata": {},
   "source": [
    "##### Using the functions defined earlier to get the performance results of models"
   ]
  },
  {
   "cell_type": "code",
   "execution_count": 79,
   "id": "a3fee0b5",
   "metadata": {},
   "outputs": [
    {
     "name": "stdout",
     "output_type": "stream",
     "text": [
      "Model's accuracy on training data: 0.97934\n",
      "Model's accuracy on test data: 0.87052\n",
      "Model's f1_score: 0.87011\n"
     ]
    }
   ],
   "source": [
    "# Benchmark model\n",
    "model_and_stats(pur_df)"
   ]
  },
  {
   "cell_type": "markdown",
   "id": "ca089408",
   "metadata": {},
   "source": [
    "##### It can be seen that results are the same - functions work! Now models will be trained with different features."
   ]
  },
  {
   "cell_type": "code",
   "execution_count": 80,
   "id": "000cea0e",
   "metadata": {
    "scrolled": true
   },
   "outputs": [
    {
     "name": "stdout",
     "output_type": "stream",
     "text": [
      "Model's accuracy on training data: 0.98895\n",
      "Model's accuracy on test data: 0.86868\n",
      "Model's f1_score: 0.86893\n"
     ]
    }
   ],
   "source": [
    "# Adding top 10 titles distribution between categories, using RandomOverSampler\n",
    "model_and_stats(pur_df, X_scale_cols=categories_to_keep, use_oversampler=\"RandOv\")"
   ]
  },
  {
   "cell_type": "code",
   "execution_count": 81,
   "id": "7ff56914",
   "metadata": {},
   "outputs": [
    {
     "name": "stdout",
     "output_type": "stream",
     "text": [
      "Model's accuracy on training data: 0.99159\n",
      "Model's accuracy on test data: 0.87300\n",
      "Model's f1_score: 0.87344\n"
     ]
    }
   ],
   "source": [
    "# Adding title length and word count, using RandomOverSampler\n",
    "model_and_stats(pur_df, X_scale_cols=[\"title_length\", \"word_count\"], use_oversampler=\"RandOv\")"
   ]
  },
  {
   "cell_type": "code",
   "execution_count": 82,
   "id": "83938989",
   "metadata": {},
   "outputs": [
    {
     "name": "stdout",
     "output_type": "stream",
     "text": [
      "Model's accuracy on training data: 0.98907\n",
      "Model's accuracy on test data: 0.87045\n",
      "Model's f1_score: 0.87067\n"
     ]
    }
   ],
   "source": [
    "# Adding top 10 titles distribution between categories, title length and word count, using RandomOverSampler\n",
    "model_and_stats(pur_df, X_scale_cols=list(pur_df.columns[2:]), use_oversampler=\"RandOv\")"
   ]
  },
  {
   "cell_type": "markdown",
   "id": "4840c128",
   "metadata": {},
   "source": [
    "##### The best results are reached when using features title, title length, word count and random over sampler:\n",
    "- 0.87300 accuracy score\n",
    "- 0.87344 f1 score"
   ]
  },
  {
   "cell_type": "markdown",
   "id": "a518cea3",
   "metadata": {},
   "source": [
    "### Pipeline and GridSearchCV"
   ]
  },
  {
   "cell_type": "code",
   "execution_count": 83,
   "id": "309a6bd0",
   "metadata": {},
   "outputs": [],
   "source": [
    "# Splitting the data using only the best features\n",
    "X_train, X_test, y_train, y_test = split_data(pur_df, \"title\", [\"title_length\", \"word_count\"], \"category\", \"RandOv\")"
   ]
  },
  {
   "cell_type": "code",
   "execution_count": 84,
   "id": "997fd93b",
   "metadata": {},
   "outputs": [],
   "source": [
    "def return_title_column(X):\n",
    "    \"\"\"Returns column 'title'\"\"\"\n",
    "    return X[\"title\"]"
   ]
  },
  {
   "cell_type": "code",
   "execution_count": 85,
   "id": "337aae46",
   "metadata": {},
   "outputs": [],
   "source": [
    "def return_numeric_columns(X):\n",
    "    \"\"\"Returns columns 'title_length' and 'word_count'\"\"\"\n",
    "    return X[[\"title_length\", \"word_count\"]]"
   ]
  },
  {
   "cell_type": "code",
   "execution_count": 86,
   "id": "f46c9b39",
   "metadata": {},
   "outputs": [],
   "source": [
    "# Two functions above will be used in the pipeline to be able to transform text and numerical data differently but they need\n",
    "# to have fit and fit_transform methods. Function transformer change them for this purpose.\n",
    "get_text_data = FunctionTransformer(return_title_column, validate=False)\n",
    "get_numeric_data = FunctionTransformer(return_numeric_columns, validate=False)"
   ]
  },
  {
   "cell_type": "code",
   "execution_count": 87,
   "id": "e166d5dd",
   "metadata": {},
   "outputs": [],
   "source": [
    "# Using feature union to be able to transform text and numerical data differently and then combine them together in the pipeline\n",
    "process_and_join_features = FeatureUnion(transformer_list = [\n",
    "                ('numeric_features', Pipeline([\n",
    "                    ('selector', get_numeric_data),\n",
    "                    ('scaler', StandardScaler())  # Scaling numerical data ('title_length', 'word_count') with standard scaler\n",
    "                ])),\n",
    "                ('text_features', Pipeline([\n",
    "                    (\"selector\", get_text_data),\n",
    "                    (\"vectorizer\", CountVectorizer())  # Converting text data ('title') to vectors\n",
    "                ]))])"
   ]
  },
  {
   "cell_type": "code",
   "execution_count": 88,
   "id": "1577db9f",
   "metadata": {},
   "outputs": [],
   "source": [
    "# Joining all steps - from data transformation to model creation - in one object: pipeline\n",
    "pipe = Pipeline([\n",
    "        ('union', process_and_join_features),\n",
    "        ('lr', LogisticRegression(multi_class=\"ovr\", random_state=420, max_iter=500))\n",
    "    ])"
   ]
  },
  {
   "cell_type": "code",
   "execution_count": 92,
   "id": "c2b58c81",
   "metadata": {},
   "outputs": [],
   "source": [
    "# Defining parameters that GridSerchCV should try out and find the best ones for the model\n",
    "params = {\n",
    "    \"union__text_features__vectorizer__ngram_range\": [(1, 1), (1, 2), (1, 3), (2, 3)],\n",
    "    \"union__text_features__vectorizer__max_df\": [0.3, 0.1, 0.01, 0.005],\n",
    "    \"lr__penalty\": [\"l2\", \"none\"]\n",
    "}"
   ]
  },
  {
   "cell_type": "code",
   "execution_count": 93,
   "id": "cb993918",
   "metadata": {},
   "outputs": [],
   "source": [
    "# Creating GridSearchCV object, using 5-fold cross-validation and accuracy as a score metric\n",
    "gs = GridSearchCV(estimator=pipe, param_grid=params, scoring=\"accuracy\", cv=5, verbose=3)"
   ]
  },
  {
   "cell_type": "code",
   "execution_count": 94,
   "id": "729a3184",
   "metadata": {},
   "outputs": [],
   "source": [
    "# Training GridSeachCV object\n",
    "# !TAKES A FEW HOURS! Set 'proceed_gs = True' if you want to calculate the results from the start.\n",
    "proceed_gs = False\n",
    "if proceed_gs:\n",
    "    gs.fit(X_train, y_train)"
   ]
  },
  {
   "cell_type": "code",
   "execution_count": 95,
   "id": "cfcf7811",
   "metadata": {},
   "outputs": [],
   "source": [
    "if proceed_gs:\n",
    "    gs.best_params_"
   ]
  },
  {
   "cell_type": "code",
   "execution_count": 97,
   "id": "e1ee9113",
   "metadata": {},
   "outputs": [],
   "source": [
    "if proceed_gs:\n",
    "    gs.best_score_"
   ]
  },
  {
   "cell_type": "markdown",
   "id": "31971068",
   "metadata": {},
   "source": [
    "##### Best results are achieved by using:\n",
    "- CountVectorizer:\n",
    "    - ngram_range = (1, 2)\n",
    "    - max_df = 0.3\n",
    "- LogisticRegression:\n",
    "    - penalty = 'l2'"
   ]
  },
  {
   "cell_type": "markdown",
   "id": "2e011e88",
   "metadata": {},
   "source": [
    "### Creating and training a model with the best parameters"
   ]
  },
  {
   "cell_type": "code",
   "execution_count": 98,
   "id": "f4ffae33",
   "metadata": {},
   "outputs": [],
   "source": [
    "process_and_join_features = FeatureUnion(transformer_list = [\n",
    "                ('numeric_features', Pipeline([\n",
    "                    ('selector', get_numeric_data),\n",
    "                    ('scaler', StandardScaler())\n",
    "                ])),\n",
    "                ('text_features', Pipeline([\n",
    "                    (\"selector\", get_text_data),\n",
    "                    (\"vectorizer\", CountVectorizer(ngram_range=(1, 2), max_df=0.3))  # Setting ngram_range=(1, 2) and max_df=0.3\n",
    "                ]))])"
   ]
  },
  {
   "cell_type": "code",
   "execution_count": 99,
   "id": "bcfaaf7e",
   "metadata": {},
   "outputs": [],
   "source": [
    "pipe = Pipeline([\n",
    "        ('union', process_and_join_features),\n",
    "        ('lr', LogisticRegression(multi_class=\"ovr\", random_state=420, max_iter=500)) # penalty='l2' is default, no need to specify\n",
    "    ])"
   ]
  },
  {
   "cell_type": "code",
   "execution_count": 100,
   "id": "8754a62d",
   "metadata": {
    "scrolled": true
   },
   "outputs": [
    {
     "data": {
      "text/plain": [
       "Pipeline(steps=[('union',\n",
       "                 FeatureUnion(transformer_list=[('numeric_features',\n",
       "                                                 Pipeline(steps=[('selector',\n",
       "                                                                  FunctionTransformer(func=<function return_numeric_columns at 0x000001F2497E8F70>)),\n",
       "                                                                 ('scaler',\n",
       "                                                                  StandardScaler())])),\n",
       "                                                ('text_features',\n",
       "                                                 Pipeline(steps=[('selector',\n",
       "                                                                  FunctionTransformer(func=<function return_title_column at 0x000001F2497E8C10>)),\n",
       "                                                                 ('vectorizer',\n",
       "                                                                  CountVectorizer(max_df=0.3,\n",
       "                                                                                  ngram_range=(1,\n",
       "                                                                                               2)))]))])),\n",
       "                ('lr',\n",
       "                 LogisticRegression(max_iter=500, multi_class='ovr',\n",
       "                                    random_state=420))])"
      ]
     },
     "execution_count": 100,
     "metadata": {},
     "output_type": "execute_result"
    }
   ],
   "source": [
    "# Training the model\n",
    "pipe.fit(X_train, y_train)"
   ]
  },
  {
   "cell_type": "code",
   "execution_count": 101,
   "id": "d5781b1b",
   "metadata": {},
   "outputs": [],
   "source": [
    "# Predicting categories for titles in the test dataset\n",
    "y_pred = pipe.predict(X_test)"
   ]
  },
  {
   "cell_type": "code",
   "execution_count": 102,
   "id": "e5406f4b",
   "metadata": {},
   "outputs": [
    {
     "data": {
      "text/plain": [
       "0.9994722479662239"
      ]
     },
     "execution_count": 102,
     "metadata": {},
     "output_type": "execute_result"
    }
   ],
   "source": [
    "pipe.score(X_train, y_train)"
   ]
  },
  {
   "cell_type": "code",
   "execution_count": 103,
   "id": "9cb7fe9a",
   "metadata": {},
   "outputs": [
    {
     "data": {
      "text/plain": [
       "0.8748408710217755"
      ]
     },
     "execution_count": 103,
     "metadata": {},
     "output_type": "execute_result"
    }
   ],
   "source": [
    "accuracy_score(y_test, y_pred)"
   ]
  },
  {
   "cell_type": "code",
   "execution_count": 104,
   "id": "9da8e28a",
   "metadata": {},
   "outputs": [
    {
     "data": {
      "text/plain": [
       "0.8749046113059135"
      ]
     },
     "execution_count": 104,
     "metadata": {},
     "output_type": "execute_result"
    }
   ],
   "source": [
    "f1_score(y_test, y_pred, average=\"weighted\")"
   ]
  },
  {
   "cell_type": "markdown",
   "id": "292dc4b5",
   "metadata": {},
   "source": [
    "##### Comparing final and benchmark models\n",
    "- 87.484 % vs. 87.052 %: accuracy score increased by 0.432 %\n",
    "- 87.490 % vs. 87.011 %: f1 score increased by 0.479 %"
   ]
  },
  {
   "cell_type": "code",
   "execution_count": 105,
   "id": "423c23d5",
   "metadata": {},
   "outputs": [],
   "source": [
    "# Saving final model locally\n",
    "with open(\"../FlaskApp/model.pkl\", \"wb\") as file:\n",
    "    pickle.dump(pipe, file)"
   ]
  },
  {
   "cell_type": "markdown",
   "id": "d6adbe77",
   "metadata": {},
   "source": [
    "## Final Notes"
   ]
  },
  {
   "cell_type": "code",
   "execution_count": 28,
   "id": "22464fe6",
   "metadata": {},
   "outputs": [],
   "source": [
    "# Calculating how many titles were asigned to different categories\n",
    "# Getting all titles from categories in (categories_to_keep) list\n",
    "t = df_cat[df_cat[\"category\"].isin(categories_to_keep)].copy()\n",
    "\n",
    "\n",
    "# Finding combinations of categories from titles that were calssified in multiple categories\n",
    "t_c_d = [\"+\".join(sorted(list(v))) for v in t[t.duplicated(\"title\", keep=False)]\\\n",
    "         .groupby(\"title\")[\"category\"].unique().values if len(v) > 1]"
   ]
  },
  {
   "cell_type": "code",
   "execution_count": 29,
   "id": "20e7739e",
   "metadata": {},
   "outputs": [
    {
     "name": "stdout",
     "output_type": "stream",
     "text": [
      "3911\n"
     ]
    },
    {
     "data": {
      "text/plain": [
       "(Counter({'mokslas-ir-it+verslas': 2763,\n",
       "          'kultura+muzika': 235,\n",
       "          'eismas+verslas': 849,\n",
       "          'sportas+verslas': 4,\n",
       "          'eismas+mokslas-ir-it+verslas': 2,\n",
       "          'mokslas-ir-it+sveikata+verslas': 4,\n",
       "          'kultura+verslas': 7,\n",
       "          'nuomones+verslas': 13,\n",
       "          'kriminalai+verslas': 15,\n",
       "          'kriminalai+sportas': 2,\n",
       "          'sveikata+verslas': 12,\n",
       "          'mokslas-ir-it+sportas+verslas': 1,\n",
       "          'kriminalai+kultura': 1,\n",
       "          'eismas+kriminalai': 3}),\n",
       " None)"
      ]
     },
     "execution_count": 29,
     "metadata": {},
     "output_type": "execute_result"
    }
   ],
   "source": [
    "# Calculating the frequencies of multi-categories combinations\n",
    "Counter(t_c_d), print(len(t_c_d))"
   ]
  },
  {
   "cell_type": "markdown",
   "id": "9fc8eecc",
   "metadata": {},
   "source": [
    "##### 3911 titles were asigned to multiple categories, most frequently:\n",
    "- 'mokslas-ir-it' and 'verslas'\n",
    "- 'eismas' and 'verslas'\n",
    "- 'kultura' and 'muzika'"
   ]
  },
  {
   "cell_type": "markdown",
   "id": "ea81a907",
   "metadata": {},
   "source": [
    "##### 3911 out of 99499 or almost 4 % of titles in the final datset were previously classified in multiple categories. This shows that the task to assign a title to only one category isn't that easy even for the authors."
   ]
  }
 ],
 "metadata": {
  "kernelspec": {
   "display_name": "Python 3 (ipykernel)",
   "language": "python",
   "name": "python3"
  },
  "language_info": {
   "codemirror_mode": {
    "name": "ipython",
    "version": 3
   },
   "file_extension": ".py",
   "mimetype": "text/x-python",
   "name": "python",
   "nbconvert_exporter": "python",
   "pygments_lexer": "ipython3",
   "version": "3.9.7"
  }
 },
 "nbformat": 4,
 "nbformat_minor": 5
}
